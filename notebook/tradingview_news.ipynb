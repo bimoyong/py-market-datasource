{
 "cells": [
  {
   "cell_type": "code",
   "execution_count": 1,
   "metadata": {},
   "outputs": [],
   "source": [
    "import io\n",
    "import json\n",
    "import logging\n",
    "import subprocess\n",
    "import sys\n",
    "from bs4 import BeautifulSoup\n",
    "import warnings\n",
    "import re\n",
    "from contextlib import suppress\n",
    "from datetime import timedelta\n",
    "from functools import reduce\n",
    "from logging import StreamHandler\n",
    "from os import chdir, getcwd, makedirs\n",
    "from os.path import dirname, exists, join\n",
    "from subprocess import CalledProcessError\n",
    "from typing import List, Union\n",
    "\n",
    "import humanize\n",
    "import numpy as np\n",
    "import pandas as pd\n",
    "import pandas_ta as ta\n",
    "import requests\n",
    "from google.cloud import bigquery\n",
    "from moonshot.strategies.base import Moonshot\n",
    "from numpy import nan\n",
    "from pandas.testing import assert_frame_equal, assert_series_equal\n",
    "\n",
    "if exists('/src'):\n",
    "    WORK_DIR = '/src'\n",
    "else:\n",
    "    base_dir = subprocess.check_output(['git', 'rev-parse', '--show-toplevel']).strip().decode()\n",
    "    WORK_DIR = join(base_dir, 'src')\n",
    "    sys.path.extend([base_dir,\n",
    "                     join(base_dir, 'notebook'),\n",
    "                     join(base_dir, 'notebook/*')])\n",
    "\n",
    "chdir(WORK_DIR)\n",
    "\n",
    "warnings.filterwarnings('ignore')\n",
    "pd.options.display.float_format = '{:,.4f}'.format\n",
    "\n",
    "logger = logging.getLogger(__name__)\n",
    "logger.setLevel(logging.INFO)\n",
    "logger.addHandler(StreamHandler())"
   ]
  },
  {
   "cell_type": "code",
   "execution_count": 2,
   "metadata": {},
   "outputs": [
    {
     "name": "stdout",
     "output_type": "stream",
     "text": [
      "env: GCLOUD_PROJECT=trading-strategy-develop\n",
      "env: REGION=asia-southeast1\n"
     ]
    }
   ],
   "source": [
    "from src.news.provider import NewsProvider\n",
    "from src.news.trading_view import TradingView\n",
    "from src.models.news_model import News, Paging, PagingMetadata\n",
    "\n",
    "GCLOUD_PROJECT = 'trading-strategy-develop'\n",
    "REGION = 'asia-southeast1'\n",
    "\n",
    "%set_env GCLOUD_PROJECT = $GCLOUD_PROJECT\n",
    "%set_env REGION = $REGION"
   ]
  },
  {
   "cell_type": "code",
   "execution_count": 3,
   "metadata": {},
   "outputs": [],
   "source": [
    "provider: Union[NewsProvider, TradingView] = TradingView()"
   ]
  },
  {
   "cell_type": "code",
   "execution_count": 4,
   "metadata": {},
   "outputs": [],
   "source": [
    "paging = provider.list(symbol='SP:SPX')"
   ]
  },
  {
   "cell_type": "code",
   "execution_count": 5,
   "metadata": {},
   "outputs": [],
   "source": [
    "paging = provider.crawl(symbol='SP:SPX')"
   ]
  },
  {
   "cell_type": "code",
   "execution_count": 6,
   "metadata": {},
   "outputs": [
    {
     "data": {
      "text/plain": [
       "'News\\n/\\nMT Newswires\\n/\\nUS Equity Investors to Watch Out for Nonfarm Payrolls This Week A…\\nUS Equity Investors to Watch Out for Nonfarm Payrolls This Week Amid Expectations for Fed Rate Cut\\nSep 3, 2024\\n10:13 UTC\\nIXIC\\nSPX\\nDJI\\nUS equity investors will focus on nonfarm payrolls during this holiday-shortened week, as they expect the data will keep the Federal Reserve on path to begin easing policy in September, the worst month for stocks typically. \\n* Having slowed sharply in July to 114,000 in part due to the impact of Hurricane Beryl on data collection, Daiwa America forecasts a \"slight pickup\" in nonfarm payrolls in August by around 170,000, according to a note Monday. The average increase in H1 was 218,000. This data could leave the unemployment rate unchanged at 4.3%, the joint-highest since October 2021, \"although the risks are skewed to a slight decline from July.\"\\n* Growth in average hourly earnings in the nonfarm data due Friday could remain close to the average of the past years of about 0.3% month-over-month, the Daiwa note said. The job openings — JOLTS — for July will be published Wednesday, another critical metric to assess the labor market health when rate cuts are on the horizon. \\n* The manufacturing ISM release due Tuesday will likely signal ongoing modest contraction in August — 21st month out of 22 — as tight financial conditions, elevated borrowing costs, and subdued demand continue to weigh, the Daiwa note said. The ISM services due Thursday probably moved sideways at 51.4, supporting the view the US economy continues to grow in Q3 at a relatively solid pace, it added. \\n* As for September, it has the worst historical monthly performance record of any month since 1926 as it averages a 1.2% decline and is up only 44% of the time, according to a note from S&P Dow Jones Indices. \\n* As of Friday, Q2 earnings for the S&P 500 were up 6.6% from a year ago, with sales 0.3% shy of a record. The estimates for Q3 and Q4 mostly held their levels, and with record earnings predicted, the 2024 earnings could jump more than 11%, the S&P note added.'"
      ]
     },
     "execution_count": 6,
     "metadata": {},
     "output_type": "execute_result"
    }
   ],
   "source": [
    "paging.data[100].text"
   ]
  },
  {
   "cell_type": "code",
   "execution_count": 7,
   "metadata": {},
   "outputs": [],
   "source": [
    "data = provider._detail('tag:reuters.com,2024:newsml_L1N3KL0OT')"
   ]
  },
  {
   "cell_type": "code",
   "execution_count": 8,
   "metadata": {},
   "outputs": [],
   "source": [
    "html = provider.detail('https://www.tradingview.com/news/reuters.com,2024:newsml_L1N3KL0OT:0-stocks-slide-led-by-fall-in-nasdaq/', return_html=True)"
   ]
  },
  {
   "cell_type": "code",
   "execution_count": 9,
   "metadata": {},
   "outputs": [
    {
     "data": {
      "text/plain": [
       "'<article class=\"wrapper-pIO_GYwT\">\\n <div class=\"breadcrumbs-pIO_GYwT\">\\n  <nav aria-label=\"Breadcrumbs\" class=\"breadcrumbs-container-aI9V8b_F\">\\n   <ul class=\"breadcrumbs-list-aI9V8b_F\">\\n    <li class=\"breadcrumbs-listitem-aI9V8b_F\">\\n     <a class=\"breadcrumb-cZAS4vtj text-button-H6_2ZGVv link-H6_2ZGVv text-button-light-gray-small-H6_2ZGVv typography-regular14px-H6_2ZGVv\" href=\"/news/\">\\n      <span class=\"background-H6_2ZGVv states-without-bg-H6_2ZGVv\">\\n      </span>\\n      <span class=\"content-H6_2ZGVv\">\\n       <span class=\"breadcrumb-content-cZAS4vtj\">\\n        News\\n       </span>\\n      </span>\\n     </a>\\n    </li>\\n    <li class=\"breadcrumbs-listitem-aI9V8b_F\">\\n     <span aria-hidden=\"true\" class=\"divider-cZAS4vtj divider-small-cZAS4vtj\">\\n      /\\n     </span>\\n     <a class=\"breadcrumb-cZAS4vtj text-button-H6_2ZGVv link-H6_2ZGVv text-button-light-gray-small-H6_2ZGVv typography-regular14px-H6_2ZGVv\" href=\"/news/providers/reuters\">\\n      <span class=\"background-H6_2ZGVv states-without-bg-H6_2ZGVv\">\\n      </span>\\n      <span class=\"content-H6_2ZGVv\">\\n       <span class=\"breadcrumb-content-cZAS4vtj\">\\n        Reuters\\n       </span>\\n      </span>\\n     </a>\\n    </li>\\n    <li class=\"breadcrumbs-listitem-aI9V8b_F\">\\n     <span aria-hidden=\"true\" class=\"divider-cZAS4vtj divider-small-cZAS4vtj\">\\n      /\\n     </span>\\n     <a aria-current=\"page\" class=\"breadcrumb-cZAS4vtj current-page-cZAS4vtj text-button-H6_2ZGVv link-H6_2ZGVv dimmed-H6_2ZGVv text-button-light-gray-small-H6_2ZGVv typography-regular14px-H6_2ZGVv\" href=\"#\">\\n      <span class=\"background-H6_2ZGVv states-without-bg-H6_2ZGVv\">\\n      </span>\\n      <span class=\"content-H6_2ZGVv\">\\n       <span class=\"breadcrumb-content-cZAS4vtj\">\\n        Stocks slide, led by fall in Nasdaq\\n       </span>\\n      </span>\\n     </a>\\n    </li>\\n   </ul>\\n  </nav>\\n </div>\\n <div class=\"container-BhsvRA7N header-pIO_GYwT\">\\n  <div class=\"logoContainer-BhsvRA7N\">\\n   <img alt=\"Reuters\" class=\"logoLight-JGNSMRpH logo-JGNSMRpH\" src=\"https://s3.tradingview.com/news/logo/reuters--theme-light.svg\"/>\\n   <img alt=\"Reuters\" class=\"logoDark-JGNSMRpH logo-JGNSMRpH\" src=\"https://s3.tradingview.com/news/logo/reuters--theme-dark.svg\"/>\\n  </div>\\n  <div class=\"block-XB6RZul2\">\\n  </div>\\n </div>\\n <h1 class=\"title-KX2tCBZq\" data-name=\"news-description-title\">\\n  Stocks slide, led by fall in Nasdaq\\n </h1>\\n <div class=\"timeAndSocialShare-pIO_GYwT\">\\n  <span class=\"container-JpONEtnA\">\\n   <time class=\"time-JpONEtnA\" datetime=\"Tue, 03 Sep 2024 17:00:14 GMT\">\\n    <span>\\n     Sep 3, 2024\\n    </span>\\n    <span>\\n     17:00 UTC\\n    </span>\\n   </time>\\n  </span>\\n  <button class=\"menuSocialShare-a8NYDtvN apply-common-tooltip lightButton-bYDQcOkp noContent-bYDQcOkp withStartSlot-bYDQcOkp secondary-PVWoXu5j gray-PVWoXu5j small-bYDQcOkp typography-regular16px-bYDQcOkp\" style=\"--ui-lib-light-button-content-max-lines:1\" title=\"Share link\">\\n   <span class=\"slot-bYDQcOkp\">\\n    <span aria-hidden=\"true\" role=\"img\">\\n     <svg height=\"28\" viewbox=\"0 0 28 28\" width=\"28\" xmlns=\"http://www.w3.org/2000/svg\">\\n      <path d=\"M21 8.5a2.5 2.5 0 1 1-5 0 2.5 2.5 0 0 1 5 0zm1 0a3.5 3.5 0 0 1-6.21 2.21l-4.06 2.44a3.49 3.49 0 0 1 0 2.7l4.06 2.44a3.5 3.5 0 1 1-.52.86l-4.06-2.44a3.5 3.5 0 1 1 0-4.42l4.06-2.44A3.49 3.49 0 0 1 18.5 5 3.5 3.5 0 0 1 22 8.5zm-1 12a2.5 2.5 0 1 1-5 0 2.5 2.5 0 0 1 5 0zM8.5 17a2.5 2.5 0 1 0 0-5 2.5 2.5 0 0 0 0 5z\" fill=\"currentColor\" fill-rule=\"evenodd\">\\n      </path>\\n     </svg>\\n    </span>\\n   </span>\\n  </button>\\n </div>\\n <div class=\"symbolsContainer-cBh_FN2P logosContainer-pIO_GYwT\" data-no-swipe=\"true\">\\n  <a class=\"anchor-cBh_FN2P tag-zVPYJd3B size-small-zVPYJd3B interactive-zVPYJd3B\" href=\"/symbols/TVC-IXIC/\" role=\"tab\">\\n   <span class=\"img-cBh_FN2P\">\\n    <img alt=\"\" class=\"tv-circle-logo-PsAlMQQF tv-circle-logo--xxxsmall-PsAlMQQF\" crossorigin=\"\" src=\"https://s3-symbol-logo.tradingview.com/indices/nasdaq-composite.svg\"/>\\n   </span>\\n   <span class=\"description-cBh_FN2P\">\\n    IXIC\\n   </span>\\n   <span class=\"percentContainer-cBh_FN2P\">\\n   </span>\\n  </a>\\n  <a class=\"anchor-cBh_FN2P tag-zVPYJd3B size-small-zVPYJd3B interactive-zVPYJd3B\" href=\"/symbols/SP-S5INFT/\" role=\"tab\">\\n   <span class=\"img-cBh_FN2P\">\\n    <img alt=\"\" class=\"tv-circle-logo-PsAlMQQF tv-circle-logo--xxxsmall-PsAlMQQF\" crossorigin=\"\" src=\"https://s3-symbol-logo.tradingview.com/sector/information-technology.svg\"/>\\n   </span>\\n   <span class=\"description-cBh_FN2P\">\\n    S5INFT\\n   </span>\\n   <span class=\"percentContainer-cBh_FN2P\">\\n   </span>\\n  </a>\\n  <a class=\"anchor-cBh_FN2P tag-zVPYJd3B size-small-zVPYJd3B interactive-zVPYJd3B\" href=\"/symbols/CBOE-SPX/\" role=\"tab\">\\n   <span class=\"img-cBh_FN2P\">\\n    <img alt=\"\" class=\"tv-circle-logo-PsAlMQQF tv-circle-logo--xxxsmall-PsAlMQQF\" crossorigin=\"\" src=\"https://s3-symbol-logo.tradingview.com/indices/s-and-p-500.svg\"/>\\n   </span>\\n   <span class=\"description-cBh_FN2P\">\\n    SPX\\n   </span>\\n   <span class=\"percentContainer-cBh_FN2P\">\\n   </span>\\n  </a>\\n  <a class=\"anchor-cBh_FN2P tag-zVPYJd3B size-small-zVPYJd3B interactive-zVPYJd3B\" href=\"/symbols/TVC-SXXP/\" role=\"tab\">\\n   <span class=\"img-cBh_FN2P\">\\n    <img alt=\"\" class=\"tv-circle-logo-PsAlMQQF tv-circle-logo--xxxsmall-PsAlMQQF\" crossorigin=\"\" src=\"https://s3-symbol-logo.tradingview.com/indices/stoxx-600.svg\"/>\\n   </span>\\n   <span class=\"description-cBh_FN2P\">\\n    SXXP\\n   </span>\\n   <span class=\"percentContainer-cBh_FN2P\">\\n   </span>\\n  </a>\\n </div>\\n <div class=\"body-KX2tCBZq bodyPreview-pIO_GYwT body-pIO_GYwT content-pIO_GYwT\" inert=\"\">\\n  <div class=\"summary-pIO_GYwT\">\\n   <div class=\"summaryTitle-pIO_GYwT\">\\n    Key points:\\n   </div>\\n   <span>\\n    <ul class=\"list-bmN0_SHH\">\\n     <li class=\"listItem-bmN0_SHH listItem--lightning-bmN0_SHH\">\\n      The major US stock indexes tumble; Nasdaq down &gt;2%\\n     </li>\\n     <li class=\"listItem-bmN0_SHH listItem--lightning-bmN0_SHH\">\\n      Tech leads S&amp;P 500 sector declines\\n     </li>\\n     <li class=\"listItem-bmN0_SHH listItem--lightning-bmN0_SHH\">\\n      STOXX 600 down ~1.0%\\n     </li>\\n     <li class=\"listItem-bmN0_SHH listItem--lightning-bmN0_SHH\">\\n      Dollar edges up; bitcoin, gold down; oil sinks\\n     </li>\\n     <li class=\"listItem-bmN0_SHH listItem--lightning-bmN0_SHH\">\\n      US 10-yr Treasury yield eases to 3.6%\\n     </li>\\n    </ul>\\n   </span>\\n  </div>\\n  <span>\\n   <p class=\"\">\\n    STOCKS SLIDE, LED BY FALL IN NASDAQ\\n   </p>\\n   <p class=\"\">\\n    U.S. stocks were down sharply in midday trading Tuesday, led by a more than 2% drop in the Nasdaq\\n    <a class=\"container-ekXxv5Y5 symbolTag-pIO_GYwT tag-zVPYJd3B size-xsmall-zVPYJd3B interactive-zVPYJd3B apply-overflow-tooltip apply-overflow-tooltip--allow-text apply-overflow-tooltip--check-children\" href=\"/symbols/TVC-IXIC/\">\\n     <img alt=\"\" class=\"tv-circle-logo-PsAlMQQF tv-circle-logo--xxxsmall-PsAlMQQF\" crossorigin=\"\" src=\"https://s3-symbol-logo.tradingview.com/indices/nasdaq-composite.svg\"/>\\n     <span class=\"text-ekXxv5Y5\">\\n      IXIC\\n     </span>\\n    </a>\\n    , with the S&amp;P 500 technology sector\\n    <a class=\"container-ekXxv5Y5 symbolTag-pIO_GYwT tag-zVPYJd3B size-xsmall-zVPYJd3B interactive-zVPYJd3B apply-overflow-tooltip apply-overflow-tooltip--allow-text apply-overflow-tooltip--check-children\" href=\"/symbols/SP-S5INFT/\">\\n     <img alt=\"\" class=\"tv-circle-logo-PsAlMQQF tv-circle-logo--xxxsmall-PsAlMQQF\" crossorigin=\"\" src=\"https://s3-symbol-logo.tradingview.com/sector/information-technology.svg\"/>\\n     <span class=\"text-ekXxv5Y5\">\\n      S5INFT\\n     </span>\\n    </a>\\n    the biggest drag on the benchmark index.\\n   </p>\\n   <p class=\"\">\\n    Indexes extended losses early on after data showed that U.S. manufacturing edged up last month from an eight-month low in July amid some improvement in employment, but the overall trend continued to point to subdued factory activity.\\n   </p>\\n   <p class=\"\">\\n    Investors are watching economic data for further clues on what may happen with interest rates, with many market watchers expecting the Federal Reserve to cut rates this month.\\n   </p>\\n   <p class=\"\">\\n    The key data point of the week is expected to be Friday\\'s monthly U.S. jobs report.\\n   </p>\\n   <p class=\"\">\\n    Here is the midday market snapshot:\\n   </p>\\n   <p class=\"\">\\n    <span class=\"container-S5VA5POt\">\\n     <figure>\\n      <div class=\"preview-gDIex6UB fixedHeight-gDIex6UB preview-S5VA5POt\" style=\"height:inherit;margin:0 auto;max-height:600px;max-width:700.7923930269413px;aspect-ratio:1.167987321711569\">\\n       <picture class=\"picture-gDIex6UB\">\\n        <source src=\"https://s3.tradingview.com/news/image/tag:reuters.com,2024:newsml_L1N3KL0OT-51a9a58f9eeb9be2cd871631bb2b5699-resized.webp\" type=\"images/webp\"/>\\n        <img alt=\"sept 3\" class=\"image-gDIex6UB image-S5VA5POt\" loading=\"lazy\" role=\"presentation\" src=\"https://s3.tradingview.com/news/image/tag:reuters.com,2024:newsml_L1N3KL0OT-51a9a58f9eeb9be2cd871631bb2b5699-resized.jpeg\" style=\"background-color:#e7e6e8\"/>\\n       </picture>\\n      </div>\\n      <figcaption class=\"caption-S5VA5POt\">\\n       <span class=\"copyright-S5VA5POt\">\\n        Thomson Reuters\\n       </span>\\n       <span class=\"description-S5VA5POt\">\\n        midday snapshot\\n       </span>\\n      </figcaption>\\n     </figure>\\n    </span>\\n   </p>\\n   <p class=\"\">\\n    (Caroline Valetkevitch)\\n   </p>\\n   <p class=\"\">\\n    *****\\n   </p>\\n   <p class=\"\">\\n    FOR TUESDAY\\'S OTHER LIVE MARKETS POSTS\\n   </p>\\n   <p class=\"\">\\n    SOFTENING CONTINUES: PMI, CONSTRUCTION SPENDING - CLICK HERE\\n   </p>\\n   <p class=\"\">\\n    EQUITY INDEX FUTURES EASE AFTER US HOLIDAY WEEKEND - CLICK HERE\\n   </p>\\n   <p class=\"\">\\n    SELL-SIDE INDICATOR POINTS TO INCREASING BULLISHNESS - BOFA - CLICK HERE\\n   </p>\\n   <p class=\"\">\\n    WEAK DOLLAR COULD PRESSURE EUROPE\\'S MEDIA COMPANIES - CLICK HERE\\n   </p>\\n   <p class=\"\">\\n    JOBS HURDLE - CLICK HERE\\n   </p>\\n   <p class=\"\">\\n    FRENCH EQUITIES LACKING LONG-TERM VISIBILITY - CLICK HERE\\n   </p>\\n   <p class=\"\">\\n    GERMAN STOCKS AT ALL-TIME HIGHS, ROLLS-ROYCE REBOUNDS - CLICK HERE\\n   </p>\\n   <p class=\"\">\\n    EUROPEAN STOCKS SET TO CREEP HIGHER - CLICK HERE\\n   </p>\\n   <p class=\"\">\\n    ISM KICKS OFF THE DOLLAR\\'S BIG WEEK - CLICK HERE\\n   </p>\\n  </span>\\n </div>\\n</article>\\n'"
      ]
     },
     "execution_count": 9,
     "metadata": {},
     "output_type": "execute_result"
    }
   ],
   "source": [
    "html"
   ]
  },
  {
   "cell_type": "code",
   "execution_count": 11,
   "metadata": {},
   "outputs": [],
   "source": [
    "with open('test/fixtures/news/news_headlines_v2_detail.json', 'r') as f:\n",
    "    data = json.load(f)"
   ]
  },
  {
   "cell_type": "code",
   "execution_count": 84,
   "metadata": {},
   "outputs": [],
   "source": [
    "with open('test/fixtures/news/news_headlines_v2_list.json', 'r') as f:\n",
    "    data = json.load(f)"
   ]
  },
  {
   "cell_type": "code",
   "execution_count": 88,
   "metadata": {},
   "outputs": [],
   "source": [
    "ids = [i['id'] for i in data.get('items')]"
   ]
  },
  {
   "cell_type": "code",
   "execution_count": 90,
   "metadata": {},
   "outputs": [
    {
     "name": "stdout",
     "output_type": "stream",
     "text": [
      "{\"shortDescription\":\"The following table shows rates for Asian currencies against the dollar at 0203 GMT.\",\"astDescription\":{\"type\":\"root\",\"children\":[{\"type\":\"p\",\"children\":[\"The following table shows rates for Asian currencies against the dollar at 0203 GMT.\"]},{\"type\":\"table\",\"children\":[{\"type\":\"table-body\",\"children\":[{\"type\":\"table-row\",\"children\":[{\"type\":\"table-data-cell\",\"params\":{\"colspan\":2},\"children\":[{\"type\":\"p\",\"children\":[\"CURRENCIES VS U.S. DOLLAR\"]}]},{\"type\":\"table-data-cell\",\"children\":[]},{\"type\":\"table-data-cell\",\"children\":[]},{\"type\":\"table-data-cell\",\"params\":{\"hidden\":true}}]},{\"type\":\"table-row\",\"children\":[{\"type\":\"table-data-cell\",\"params\":{\"colspan\":2}},{\"type\":\"table-data-cell\",\"children\":[]},{\"type\":\"table-data-cell\",\"children\":[]},{\"type\":\"table-data-cell\",\"params\":{\"hidden\":true}}]},{\"type\":\"table-row\",\"children\":[{\"type\":\"table-data-cell\",\"children\":[{\"type\":\"p\",\"children\":[\"Currency\"]}]},{\"type\":\"table-data-cell\",\"children\":[{\"type\":\"p\",\"children\":[\"Latest bid\"]}]},{\"type\":\"table-data-cell\",\"children\":[{\"type\":\"p\",\"children\":[\"Previous day\"]}]},{\"type\":\"table-data-cell\",\"children\":[{\"type\":\"p\",\"children\":[\"Pct Move\"]}]}]},{\"type\":\"table-row\",\"children\":[{\"type\":\"table-data-cell\",\"children\":[{\"type\":\"p\",\"children\":[\"Japan yen\"]}]},{\"type\":\"table-data-cell\",\"children\":[{\"type\":\"p\",\"children\":[\"145.390\"]}]},{\"type\":\"table-data-cell\",\"children\":[{\"type\":\"p\",\"children\":[\"145.47\"]}]},{\"type\":\"table-data-cell\",\"children\":[{\"type\":\"p\",\"children\":[\"+0.06\"]}]}]},{\"type\":\"table-row\",\"children\":[{\"type\":\"table-data-cell\",\"children\":[{\"type\":\"p\",\"children\":[\"Sing dlr\"]}]},{\"type\":\"table-data-cell\",\"children\":[{\"type\":\"p\",\"children\":[\"1.307\"]}]},{\"type\":\"table-data-cell\",\"children\":[{\"type\":\"p\",\"children\":[\"1.3071\"]}]},{\"type\":\"table-data-cell\",\"children\":[{\"type\":\"p\",\"children\":[\"-0.02\"]}]}]},{\"type\":\"table-row\",\"children\":[{\"type\":\"table-data-cell\",\"children\":[{\"type\":\"p\",\"children\":[\"Taiwan dlr\"]}]},{\"type\":\"table-data-cell\",\"children\":[{\"type\":\"p\",\"children\":[\"32.141\"]}]},{\"type\":\"table-data-cell\",\"children\":[{\"type\":\"p\",\"children\":[\"32.062\"]}]},{\"type\":\"table-data-cell\",\"children\":[{\"type\":\"p\",\"children\":[\"-0.25\"]}]}]},{\"type\":\"table-row\",\"children\":[{\"type\":\"table-data-cell\",\"children\":[{\"type\":\"p\",\"children\":[\"Korean won\"]}]},{\"type\":\"table-data-cell\",\"children\":[{\"type\":\"p\",\"children\":[\"1341.600\"]}]},{\"type\":\"table-data-cell\",\"children\":[{\"type\":\"p\",\"children\":[\"1345.4\"]}]},{\"type\":\"table-data-cell\",\"children\":[{\"type\":\"p\",\"children\":[\"+0.28\"]}]}]},{\"type\":\"table-row\",\"children\":[{\"type\":\"table-data-cell\",\"children\":[{\"type\":\"p\",\"children\":[\"Baht\"]}]},{\"type\":\"table-data-cell\",\"children\":[{\"type\":\"p\",\"children\":[\"34.275\"]}]},{\"type\":\"table-data-cell\",\"children\":[{\"type\":\"p\",\"children\":[\"34.26\"]}]},{\"type\":\"table-data-cell\",\"children\":[{\"type\":\"p\",\"children\":[\"-0.04\"]}]}]},{\"type\":\"table-row\",\"children\":[{\"type\":\"table-data-cell\",\"children\":[{\"type\":\"p\",\"children\":[\"Peso\"]}]},{\"type\":\"table-data-cell\",\"children\":[{\"type\":\"p\",\"children\":[\"56.600\"]}]},{\"type\":\"table-data-cell\",\"children\":[{\"type\":\"p\",\"children\":[\"56.5\"]}]},{\"type\":\"table-data-cell\",\"children\":[{\"type\":\"p\",\"children\":[\"-0.18\"]}]}]},{\"type\":\"table-row\",\"children\":[{\"type\":\"table-data-cell\",\"children\":[{\"type\":\"p\",\"children\":[\"Rupiah\"]}]},{\"type\":\"table-data-cell\",\"children\":[{\"type\":\"p\",\"children\":[\"15530.000\"]}]},{\"type\":\"table-data-cell\",\"children\":[{\"type\":\"p\",\"children\":[\"15520\"]}]},{\"type\":\"table-data-cell\",\"children\":[{\"type\":\"p\",\"children\":[\"-0.06\"]}]}]},{\"type\":\"table-row\",\"children\":[{\"type\":\"table-data-cell\",\"children\":[{\"type\":\"p\",\"children\":[\"Rupee\"]}]},{\"type\":\"table-data-cell\",\"children\":[{\"type\":\"p\",\"children\":[\"83.968\"]}]},{\"type\":\"table-data-cell\",\"children\":[{\"type\":\"p\",\"children\":[\"83.9675\"]}]},{\"type\":\"table-data-cell\",\"children\":[{\"type\":\"p\",\"children\":[\"0.00\"]}]}]},{\"type\":\"table-row\",\"children\":[{\"type\":\"table-data-cell\",\"children\":[{\"type\":\"p\",\"children\":[\"Ringgit\"]}]},{\"type\":\"table-data-cell\",\"children\":[{\"type\":\"p\",\"children\":[\"4.350\"]}]},{\"type\":\"table-data-cell\",\"children\":[{\"type\":\"p\",\"children\":[\"4.365\"]}]},{\"type\":\"table-data-cell\",\"children\":[{\"type\":\"p\",\"children\":[\"+0.34\"]}]}]},{\"type\":\"table-row\",\"children\":[{\"type\":\"table-data-cell\",\"children\":[{\"type\":\"p\",\"children\":[\"Yuan\"]}]},{\"type\":\"table-data-cell\",\"children\":[{\"type\":\"p\",\"children\":[\"7.116\"]}]},{\"type\":\"table-data-cell\",\"children\":[{\"type\":\"p\",\"children\":[\"7.1204\"]}]},{\"type\":\"table-data-cell\",\"children\":[{\"type\":\"p\",\"children\":[\"+0.06\"]}]}]},{\"type\":\"table-row\",\"children\":[{\"type\":\"table-data-cell\",\"params\":{\"colspan\":2},\"children\":[{\"type\":\"p\",\"children\":[\"Change so far in 2024\"]}]},{\"type\":\"table-data-cell\",\"children\":[]},{\"type\":\"table-data-cell\",\"children\":[]},{\"type\":\"table-data-cell\",\"params\":{\"hidden\":true}}]},{\"type\":\"table-row\",\"children\":[{\"type\":\"table-data-cell\",\"children\":[{\"type\":\"p\",\"children\":[\"Currency\"]}]},{\"type\":\"table-data-cell\",\"children\":[{\"type\":\"p\",\"children\":[\"Latest bid\"]}]},{\"type\":\"table-data-cell\",\"children\":[{\"type\":\"p\",\"children\":[\"End 2023\"]}]},{\"type\":\"table-data-cell\",\"children\":[{\"type\":\"p\",\"children\":[\"Pct Move\"]}]}]},{\"type\":\"table-row\",\"children\":[{\"type\":\"table-data-cell\",\"children\":[{\"type\":\"p\",\"children\":[\"Japan yen\"]}]},{\"type\":\"table-data-cell\",\"children\":[{\"type\":\"p\",\"children\":[\"145.390\"]}]},{\"type\":\"table-data-cell\",\"children\":[{\"type\":\"p\",\"children\":[\"141.060\"]}]},{\"type\":\"table-data-cell\",\"children\":[{\"type\":\"p\",\"children\":[\"-2.98\"]}]}]},{\"type\":\"table-row\",\"children\":[{\"type\":\"table-data-cell\",\"children\":[{\"type\":\"p\",\"children\":[\"Sing dlr\"]}]},{\"type\":\"table-data-cell\",\"children\":[{\"type\":\"p\",\"children\":[\"1.307\"]}]},{\"type\":\"table-data-cell\",\"children\":[{\"type\":\"p\",\"children\":[\"1.319\"]}]},{\"type\":\"table-data-cell\",\"children\":[{\"type\":\"p\",\"children\":[\"+0.90\"]}]}]},{\"type\":\"table-row\",\"children\":[{\"type\":\"table-data-cell\",\"children\":[{\"type\":\"p\",\"children\":[\"Taiwan dlr\"]}]},{\"type\":\"table-data-cell\",\"children\":[{\"type\":\"p\",\"children\":[\"32.141\"]}]},{\"type\":\"table-data-cell\",\"children\":[{\"type\":\"p\",\"children\":[\"30.735\"]}]},{\"type\":\"table-data-cell\",\"children\":[{\"type\":\"p\",\"children\":[\"-4.37\"]}]}]},{\"type\":\"table-row\",\"children\":[{\"type\":\"table-data-cell\",\"children\":[{\"type\":\"p\",\"children\":[\"Korean won\"]}]},{\"type\":\"table-data-cell\",\"children\":[{\"type\":\"p\",\"children\":[\"1341.600\"]}]},{\"type\":\"table-data-cell\",\"children\":[{\"type\":\"p\",\"children\":[\"1288.000\"]}]},{\"type\":\"table-data-cell\",\"children\":[{\"type\":\"p\",\"children\":[\"-4.00\"]}]}]},{\"type\":\"table-row\",\"children\":[{\"type\":\"table-data-cell\",\"children\":[{\"type\":\"p\",\"children\":[\"Baht\"]}]},{\"type\":\"table-data-cell\",\"children\":[{\"type\":\"p\",\"children\":[\"34.275\"]}]},{\"type\":\"table-data-cell\",\"children\":[{\"type\":\"p\",\"children\":[\"34.165\"]}]},{\"type\":\"table-data-cell\",\"children\":[{\"type\":\"p\",\"children\":[\"-0.32\"]}]}]},{\"type\":\"table-row\",\"children\":[{\"type\":\"table-data-cell\",\"children\":[{\"type\":\"p\",\"children\":[\"Peso\"]}]},{\"type\":\"table-data-cell\",\"children\":[{\"type\":\"p\",\"children\":[\"56.600\"]}]},{\"type\":\"table-data-cell\",\"children\":[{\"type\":\"p\",\"children\":[\"55.388\"]}]},{\"type\":\"table-data-cell\",\"children\":[{\"type\":\"p\",\"children\":[\"-2.14\"]}]}]},{\"type\":\"table-row\",\"children\":[{\"type\":\"table-data-cell\",\"children\":[{\"type\":\"p\",\"children\":[\"Rupiah\"]}]},{\"type\":\"table-data-cell\",\"children\":[{\"type\":\"p\",\"children\":[\"15530.000\"]}]},{\"type\":\"table-data-cell\",\"children\":[{\"type\":\"p\",\"children\":[\"15395.000\"]}]},{\"type\":\"table-data-cell\",\"children\":[{\"type\":\"p\",\"children\":[\"-0.87\"]}]}]},{\"type\":\"table-row\",\"children\":[{\"type\":\"table-data-cell\",\"children\":[{\"type\":\"p\",\"children\":[\"Rupee\"]}]},{\"type\":\"table-data-cell\",\"children\":[{\"type\":\"p\",\"children\":[\"83.968\"]}]},{\"type\":\"table-data-cell\",\"children\":[{\"type\":\"p\",\"children\":[\"83.208\"]}]},{\"type\":\"table-data-cell\",\"children\":[{\"type\":\"p\",\"children\":[\"-0.91\"]}]}]},{\"type\":\"table-row\",\"children\":[{\"type\":\"table-data-cell\",\"children\":[{\"type\":\"p\",\"children\":[\"Ringgit\"]}]},{\"type\":\"table-data-cell\",\"children\":[{\"type\":\"p\",\"children\":[\"4.350\"]}]},{\"type\":\"table-data-cell\",\"children\":[{\"type\":\"p\",\"children\":[\"4.590\"]}]},{\"type\":\"table-data-cell\",\"children\":[{\"type\":\"p\",\"children\":[\"+5.52\"]}]}]},{\"type\":\"table-row\",\"children\":[{\"type\":\"table-data-cell\",\"children\":[{\"type\":\"p\",\"children\":[\"Yuan\"]}]},{\"type\":\"table-data-cell\",\"children\":[{\"type\":\"p\",\"children\":[\"7.116\"]}]},{\"type\":\"table-data-cell\",\"children\":[{\"type\":\"p\",\"children\":[\"7.098\"]}]},{\"type\":\"table-data-cell\",\"children\":[{\"type\":\"p\",\"children\":[\"-0.25\"]}]}]}]}]}]},\"language\":\"en\",\"tags\":[{\"title\":\"Indices\",\"args\":[{\"id\":\"category\",\"value\":\"index\"}]},{\"title\":\"Markets today\",\"args\":[{\"id\":\"section\",\"value\":\"markets_today\"}]},{\"title\":\"Reuters\",\"args\":[{\"id\":\"provider\",\"value\":\"reuters\"}]}],\"copyright\":\"Copyright Thomson Reuters 2024. Click For Restrictions - https://agency.reuters.com/en/copyright.html\",\"id\":\"tag:reuters.com,2024:newsml_L1N3KM01T:0\",\"title\":\"Malaysian ringgit, South Korean won gain among mixed Asian currencies\",\"provider\":\"reuters\",\"sourceLogoId\":\"reuters\",\"published\":1725415610,\"source\":\"Reuters\",\"urgency\":2,\"permission\":\"preview\",\"relatedSymbols\":[{\"symbol\":\"FX_IDC:USDIDR\",\"currency-logoid\":\"country/ID\",\"base-currency-logoid\":\"country/US\"},{\"symbol\":\"HOSE:VNINDEX\",\"logoid\":\"indices/vietnam-index\"},{\"symbol\":\"ICEUS:DXY\",\"logoid\":\"indices/u-s-dollar-index\"},{\"symbol\":\"FX_IDC:USDINR\",\"currency-logoid\":\"country/IN\",\"base-currency-logoid\":\"country/US\"},{\"symbol\":\"KRX:KOSPI\",\"logoid\":\"indices/korea-composite-index\"},{\"symbol\":\"FX_IDC:USDKRW\",\"currency-logoid\":\"country/KR\",\"base-currency-logoid\":\"country/US\"},{\"symbol\":\"FTSEMYX:FBMKLCI\",\"logoid\":\"indices/ftse-bursa-malaysia\"},{\"symbol\":\"PSE:PSEI\"},{\"symbol\":\"FTSEST:STI\",\"logoid\":\"indices/sti-index\"},{\"symbol\":\"FX_IDC:USDMYR\",\"currency-logoid\":\"country/MY\",\"base-currency-logoid\":\"country/US\"},{\"symbol\":\"FX_IDC:USDPHP\",\"currency-logoid\":\"country/PH\",\"base-currency-logoid\":\"country/US\"},{\"symbol\":\"FX_IDC:USDSGD\",\"currency-logoid\":\"country/SG\",\"base-currency-logoid\":\"country/US\"},{\"symbol\":\"FX_IDC:USDTHB\",\"currency-logoid\":\"country/TH\",\"base-currency-logoid\":\"country/US\"},{\"symbol\":\"FX_IDC:USDVND\",\"currency-logoid\":\"country/VN\",\"base-currency-logoid\":\"country/US\"},{\"symbol\":\"IDX:COMPOSITE\",\"logoid\":\"indices/jakarta-composite-index\"},{\"symbol\":\"SET:SET\",\"logoid\":\"indices/set\"}],\"storyPath\":\"/news/reuters.com,2024:newsml_L1N3KM01T:0-malaysian-ringgit-south-korean-won-gain-among-mixed-asian-currencies/\"}\n"
     ]
    }
   ],
   "source": [
    "url = 'https://news-headlines.tradingview.com/v2/story'\n",
    "\n",
    "headers = {}\n",
    "\n",
    "params = {\n",
    "    'id': 'tag:reuters.com,2024:newsml_L1N3KM01T:0',\n",
    "    'lang': 'en',\n",
    "}\n",
    "\n",
    "response = requests.request('GET', url, headers=headers, params=params)\n",
    "\n",
    "print(response.text)"
   ]
  },
  {
   "cell_type": "code",
   "execution_count": 91,
   "metadata": {},
   "outputs": [],
   "source": [
    "import requests\n",
    "\n",
    "news_ls = []\n",
    "\n",
    "for i in ids:\n",
    "    url = 'https://news-headlines.tradingview.com/v2/story'\n",
    "    headers = {}\n",
    "    params = {\n",
    "        'id': 'tag:reuters.com,2024:newsml_L1N3KM01T:0',\n",
    "        'lang': 'en',\n",
    "    }\n",
    "    resp = requests.request('GET', url, headers=headers, params=params)\n",
    "\n",
    "    news_ls.append(json.loads(resp.text))"
   ]
  },
  {
   "cell_type": "code",
   "execution_count": 95,
   "metadata": {},
   "outputs": [],
   "source": [
    "json.dump(news_ls, open('abc.json', 'w'))"
   ]
  },
  {
   "cell_type": "code",
   "execution_count": 12,
   "metadata": {},
   "outputs": [],
   "source": [
    "# Custom mapping from JSON types to HTML tags\n",
    "type_to_tag = {\n",
    "    'root': 'div',           # Use a 'div' or a different container element\n",
    "    'p': 'p',\n",
    "    'table': 'table',\n",
    "    'table-body': 'tbody',\n",
    "    'table-row': 'tr',\n",
    "    'table-data-cell': 'td',\n",
    "    'text': None,            # Handle text nodes separately\n",
    "}\n",
    "\n",
    "\n",
    "def json_to_html_with_custom_mapping(json_data):\n",
    "    '''\n",
    "    Function to convert JSON to HTML using custom mapping\n",
    "    '''\n",
    "    def convert_node(node):\n",
    "        if isinstance(node, str):\n",
    "            return node\n",
    "\n",
    "        # Get the tag based on the type\n",
    "        # Default to 'div' if type is unknown\n",
    "        tag = type_to_tag.get(node['type'], 'html')\n",
    "\n",
    "        # Handle text nodes (no wrapping tag)\n",
    "        if node['type'] == 'text':\n",
    "            return node.get('text', '')\n",
    "\n",
    "        # Start the HTML tag\n",
    "        if tag:\n",
    "            html = f'<{tag}>'\n",
    "        else:\n",
    "            html = ''\n",
    "\n",
    "        # Process children nodes recursively\n",
    "        if 'children' in node:\n",
    "            for child in node['children']:\n",
    "                html += convert_node(child)\n",
    "\n",
    "        # Close the HTML tag if necessary\n",
    "        if tag:\n",
    "            html += f'</{tag}>'\n",
    "\n",
    "        return html\n",
    "\n",
    "    return convert_node(json_data)"
   ]
  },
  {
   "cell_type": "code",
   "execution_count": 13,
   "metadata": {},
   "outputs": [],
   "source": [
    "html = json_to_html_with_custom_mapping(data.get('astDescription'))"
   ]
  },
  {
   "cell_type": "code",
   "execution_count": 14,
   "metadata": {},
   "outputs": [],
   "source": [
    "from bs4 import BeautifulSoup\n",
    "\n",
    "soup = BeautifulSoup(html, 'html.parser')\n",
    "txt = soup.get_text(separator='\\n')"
   ]
  },
  {
   "cell_type": "code",
   "execution_count": 17,
   "metadata": {},
   "outputs": [
    {
     "data": {
      "text/plain": [
       "'<div>\\n <p>\\n  The following table shows rates for Asian currencies against the dollar at 0203 GMT.\\n </p>\\n <table>\\n  <tbody>\\n   <tr>\\n    <td>\\n     <p>\\n      CURRENCIES VS U.S. DOLLAR\\n     </p>\\n    </td>\\n    <td>\\n    </td>\\n    <td>\\n    </td>\\n    <td>\\n    </td>\\n   </tr>\\n   <tr>\\n    <td>\\n    </td>\\n    <td>\\n    </td>\\n    <td>\\n    </td>\\n    <td>\\n    </td>\\n   </tr>\\n   <tr>\\n    <td>\\n     <p>\\n      Currency\\n     </p>\\n    </td>\\n    <td>\\n     <p>\\n      Latest bid\\n     </p>\\n    </td>\\n    <td>\\n     <p>\\n      Previous day\\n     </p>\\n    </td>\\n    <td>\\n     <p>\\n      Pct Move\\n     </p>\\n    </td>\\n   </tr>\\n   <tr>\\n    <td>\\n     <p>\\n      Japan yen\\n     </p>\\n    </td>\\n    <td>\\n     <p>\\n      145.390\\n     </p>\\n    </td>\\n    <td>\\n     <p>\\n      145.47\\n     </p>\\n    </td>\\n    <td>\\n     <p>\\n      +0.06\\n     </p>\\n    </td>\\n   </tr>\\n   <tr>\\n    <td>\\n     <p>\\n      Sing dlr\\n     </p>\\n    </td>\\n    <td>\\n     <p>\\n      1.307\\n     </p>\\n    </td>\\n    <td>\\n     <p>\\n      1.3071\\n     </p>\\n    </td>\\n    <td>\\n     <p>\\n      -0.02\\n     </p>\\n    </td>\\n   </tr>\\n   <tr>\\n    <td>\\n     <p>\\n      Taiwan dlr\\n     </p>\\n    </td>\\n    <td>\\n     <p>\\n      32.141\\n     </p>\\n    </td>\\n    <td>\\n     <p>\\n      32.062\\n     </p>\\n    </td>\\n    <td>\\n     <p>\\n      -0.25\\n     </p>\\n    </td>\\n   </tr>\\n   <tr>\\n    <td>\\n     <p>\\n      Korean won\\n     </p>\\n    </td>\\n    <td>\\n     <p>\\n      1341.600\\n     </p>\\n    </td>\\n    <td>\\n     <p>\\n      1345.4\\n     </p>\\n    </td>\\n    <td>\\n     <p>\\n      +0.28\\n     </p>\\n    </td>\\n   </tr>\\n   <tr>\\n    <td>\\n     <p>\\n      Baht\\n     </p>\\n    </td>\\n    <td>\\n     <p>\\n      34.275\\n     </p>\\n    </td>\\n    <td>\\n     <p>\\n      34.26\\n     </p>\\n    </td>\\n    <td>\\n     <p>\\n      -0.04\\n     </p>\\n    </td>\\n   </tr>\\n   <tr>\\n    <td>\\n     <p>\\n      Peso\\n     </p>\\n    </td>\\n    <td>\\n     <p>\\n      56.600\\n     </p>\\n    </td>\\n    <td>\\n     <p>\\n      56.5\\n     </p>\\n    </td>\\n    <td>\\n     <p>\\n      -0.18\\n     </p>\\n    </td>\\n   </tr>\\n   <tr>\\n    <td>\\n     <p>\\n      Rupiah\\n     </p>\\n    </td>\\n    <td>\\n     <p>\\n      15530.000\\n     </p>\\n    </td>\\n    <td>\\n     <p>\\n      15520\\n     </p>\\n    </td>\\n    <td>\\n     <p>\\n      -0.06\\n     </p>\\n    </td>\\n   </tr>\\n   <tr>\\n    <td>\\n     <p>\\n      Rupee\\n     </p>\\n    </td>\\n    <td>\\n     <p>\\n      83.968\\n     </p>\\n    </td>\\n    <td>\\n     <p>\\n      83.9675\\n     </p>\\n    </td>\\n    <td>\\n     <p>\\n      0.00\\n     </p>\\n    </td>\\n   </tr>\\n   <tr>\\n    <td>\\n     <p>\\n      Ringgit\\n     </p>\\n    </td>\\n    <td>\\n     <p>\\n      4.350\\n     </p>\\n    </td>\\n    <td>\\n     <p>\\n      4.365\\n     </p>\\n    </td>\\n    <td>\\n     <p>\\n      +0.34\\n     </p>\\n    </td>\\n   </tr>\\n   <tr>\\n    <td>\\n     <p>\\n      Yuan\\n     </p>\\n    </td>\\n    <td>\\n     <p>\\n      7.116\\n     </p>\\n    </td>\\n    <td>\\n     <p>\\n      7.1204\\n     </p>\\n    </td>\\n    <td>\\n     <p>\\n      +0.06\\n     </p>\\n    </td>\\n   </tr>\\n   <tr>\\n    <td>\\n     <p>\\n      Change so far in 2024\\n     </p>\\n    </td>\\n    <td>\\n    </td>\\n    <td>\\n    </td>\\n    <td>\\n    </td>\\n   </tr>\\n   <tr>\\n    <td>\\n     <p>\\n      Currency\\n     </p>\\n    </td>\\n    <td>\\n     <p>\\n      Latest bid\\n     </p>\\n    </td>\\n    <td>\\n     <p>\\n      End 2023\\n     </p>\\n    </td>\\n    <td>\\n     <p>\\n      Pct Move\\n     </p>\\n    </td>\\n   </tr>\\n   <tr>\\n    <td>\\n     <p>\\n      Japan yen\\n     </p>\\n    </td>\\n    <td>\\n     <p>\\n      145.390\\n     </p>\\n    </td>\\n    <td>\\n     <p>\\n      141.060\\n     </p>\\n    </td>\\n    <td>\\n     <p>\\n      -2.98\\n     </p>\\n    </td>\\n   </tr>\\n   <tr>\\n    <td>\\n     <p>\\n      Sing dlr\\n     </p>\\n    </td>\\n    <td>\\n     <p>\\n      1.307\\n     </p>\\n    </td>\\n    <td>\\n     <p>\\n      1.319\\n     </p>\\n    </td>\\n    <td>\\n     <p>\\n      +0.90\\n     </p>\\n    </td>\\n   </tr>\\n   <tr>\\n    <td>\\n     <p>\\n      Taiwan dlr\\n     </p>\\n    </td>\\n    <td>\\n     <p>\\n      32.141\\n     </p>\\n    </td>\\n    <td>\\n     <p>\\n      30.735\\n     </p>\\n    </td>\\n    <td>\\n     <p>\\n      -4.37\\n     </p>\\n    </td>\\n   </tr>\\n   <tr>\\n    <td>\\n     <p>\\n      Korean won\\n     </p>\\n    </td>\\n    <td>\\n     <p>\\n      1341.600\\n     </p>\\n    </td>\\n    <td>\\n     <p>\\n      1288.000\\n     </p>\\n    </td>\\n    <td>\\n     <p>\\n      -4.00\\n     </p>\\n    </td>\\n   </tr>\\n   <tr>\\n    <td>\\n     <p>\\n      Baht\\n     </p>\\n    </td>\\n    <td>\\n     <p>\\n      34.275\\n     </p>\\n    </td>\\n    <td>\\n     <p>\\n      34.165\\n     </p>\\n    </td>\\n    <td>\\n     <p>\\n      -0.32\\n     </p>\\n    </td>\\n   </tr>\\n   <tr>\\n    <td>\\n     <p>\\n      Peso\\n     </p>\\n    </td>\\n    <td>\\n     <p>\\n      56.600\\n     </p>\\n    </td>\\n    <td>\\n     <p>\\n      55.388\\n     </p>\\n    </td>\\n    <td>\\n     <p>\\n      -2.14\\n     </p>\\n    </td>\\n   </tr>\\n   <tr>\\n    <td>\\n     <p>\\n      Rupiah\\n     </p>\\n    </td>\\n    <td>\\n     <p>\\n      15530.000\\n     </p>\\n    </td>\\n    <td>\\n     <p>\\n      15395.000\\n     </p>\\n    </td>\\n    <td>\\n     <p>\\n      -0.87\\n     </p>\\n    </td>\\n   </tr>\\n   <tr>\\n    <td>\\n     <p>\\n      Rupee\\n     </p>\\n    </td>\\n    <td>\\n     <p>\\n      83.968\\n     </p>\\n    </td>\\n    <td>\\n     <p>\\n      83.208\\n     </p>\\n    </td>\\n    <td>\\n     <p>\\n      -0.91\\n     </p>\\n    </td>\\n   </tr>\\n   <tr>\\n    <td>\\n     <p>\\n      Ringgit\\n     </p>\\n    </td>\\n    <td>\\n     <p>\\n      4.350\\n     </p>\\n    </td>\\n    <td>\\n     <p>\\n      4.590\\n     </p>\\n    </td>\\n    <td>\\n     <p>\\n      +5.52\\n     </p>\\n    </td>\\n   </tr>\\n   <tr>\\n    <td>\\n     <p>\\n      Yuan\\n     </p>\\n    </td>\\n    <td>\\n     <p>\\n      7.116\\n     </p>\\n    </td>\\n    <td>\\n     <p>\\n      7.098\\n     </p>\\n    </td>\\n    <td>\\n     <p>\\n      -0.25\\n     </p>\\n    </td>\\n   </tr>\\n  </tbody>\\n </table>\\n</div>\\n'"
      ]
     },
     "execution_count": 17,
     "metadata": {},
     "output_type": "execute_result"
    }
   ],
   "source": [
    "soup.prettify()"
   ]
  },
  {
   "cell_type": "code",
   "execution_count": 15,
   "metadata": {},
   "outputs": [
    {
     "data": {
      "text/plain": [
       "'The following table shows rates for Asian currencies against the dollar at 0203 GMT.\\nCURRENCIES VS U.S. DOLLAR\\nCurrency\\nLatest bid\\nPrevious day\\nPct Move\\nJapan yen\\n145.390\\n145.47\\n+0.06\\nSing dlr\\n1.307\\n1.3071\\n-0.02\\nTaiwan dlr\\n32.141\\n32.062\\n-0.25\\nKorean won\\n1341.600\\n1345.4\\n+0.28\\nBaht\\n34.275\\n34.26\\n-0.04\\nPeso\\n56.600\\n56.5\\n-0.18\\nRupiah\\n15530.000\\n15520\\n-0.06\\nRupee\\n83.968\\n83.9675\\n0.00\\nRinggit\\n4.350\\n4.365\\n+0.34\\nYuan\\n7.116\\n7.1204\\n+0.06\\nChange so far in 2024\\nCurrency\\nLatest bid\\nEnd 2023\\nPct Move\\nJapan yen\\n145.390\\n141.060\\n-2.98\\nSing dlr\\n1.307\\n1.319\\n+0.90\\nTaiwan dlr\\n32.141\\n30.735\\n-4.37\\nKorean won\\n1341.600\\n1288.000\\n-4.00\\nBaht\\n34.275\\n34.165\\n-0.32\\nPeso\\n56.600\\n55.388\\n-2.14\\nRupiah\\n15530.000\\n15395.000\\n-0.87\\nRupee\\n83.968\\n83.208\\n-0.91\\nRinggit\\n4.350\\n4.590\\n+5.52\\nYuan\\n7.116\\n7.098\\n-0.25'"
      ]
     },
     "execution_count": 15,
     "metadata": {},
     "output_type": "execute_result"
    }
   ],
   "source": [
    "txt"
   ]
  },
  {
   "cell_type": "code",
   "execution_count": 37,
   "metadata": {},
   "outputs": [
    {
     "data": {
      "text/plain": [
       "'The following table shows rates for Asian currencies against the dollar at 0203 GMT.CURRENCIES VS U.S. DOLLARtable-data-celltable-data-celltable-data-cellCurrencyLatest bidPrevious dayPct MoveJapan yen145.390145.47+0.06Sing dlr1.3071.3071-0.02Taiwan dlr32.14132.062-0.25Korean won1341.6001345.4+0.28Baht34.27534.26-0.04Peso56.60056.5-0.18Rupiah15530.00015520-0.06Rupee83.96883.96750.00Ringgit4.3504.365+0.34Yuan7.1167.1204+0.06Change so far in 2024table-data-cellCurrencyLatest bidEnd 2023Pct MoveJapan yen145.390141.060-2.98Sing dlr1.3071.319+0.90Taiwan dlr32.14130.735-4.37Korean won1341.6001288.000-4.00Baht34.27534.165-0.32Peso56.60055.388-2.14Rupiah15530.00015395.000-0.87Rupee83.96883.208-0.91Ringgit4.3504.590+5.52Yuan7.1167.098-0.25'"
      ]
     },
     "execution_count": 37,
     "metadata": {},
     "output_type": "execute_result"
    }
   ],
   "source": [
    "html"
   ]
  },
  {
   "cell_type": "code",
   "execution_count": 4,
   "metadata": {},
   "outputs": [],
   "source": [
    "# symbols = [\n",
    "#     'SP:S5COND',\n",
    "# ]\n",
    "\n",
    "# fields = [\n",
    "#     'description'\n",
    "#     'price',\n",
    "#     'change_5d',\n",
    "#     'change_5d_pct',\n",
    "#     'low_5d',\n",
    "#     'high_5d',\n",
    "# ]\n",
    "\n",
    "# results = provider.quotes(symbols=symbols, fields=fields)"
   ]
  },
  {
   "cell_type": "code",
   "execution_count": 12,
   "metadata": {},
   "outputs": [],
   "source": [
    "symbols = [\n",
    "    'NASDAQ:TSLA',\n",
    "]\n",
    "\n",
    "ohlcv = provider.ohclv(symbols=symbols,\n",
    "                       freq='1D',\n",
    "                       total_candles=252*500000).reset_index()"
   ]
  },
  {
   "cell_type": "code",
   "execution_count": 13,
   "metadata": {},
   "outputs": [
    {
     "data": {
      "text/html": [
       "<div>\n",
       "<style scoped>\n",
       "    .dataframe tbody tr th:only-of-type {\n",
       "        vertical-align: middle;\n",
       "    }\n",
       "\n",
       "    .dataframe tbody tr th {\n",
       "        vertical-align: top;\n",
       "    }\n",
       "\n",
       "    .dataframe thead th {\n",
       "        text-align: right;\n",
       "    }\n",
       "</style>\n",
       "<table border=\"1\" class=\"dataframe\">\n",
       "  <thead>\n",
       "    <tr style=\"text-align: right;\">\n",
       "      <th></th>\n",
       "      <th>Date</th>\n",
       "      <th>Symbol</th>\n",
       "      <th>Open</th>\n",
       "      <th>High</th>\n",
       "      <th>Low</th>\n",
       "      <th>Close</th>\n",
       "      <th>Volume</th>\n",
       "    </tr>\n",
       "  </thead>\n",
       "  <tbody>\n",
       "    <tr>\n",
       "      <th>0</th>\n",
       "      <td>2010-06-30 13:30:00+00:00</td>\n",
       "      <td>NASDAQ:TSLA</td>\n",
       "      <td>1.71933100</td>\n",
       "      <td>2.02794500</td>\n",
       "      <td>1.55333200</td>\n",
       "      <td>1.58866500</td>\n",
       "      <td>257916256</td>\n",
       "    </tr>\n",
       "    <tr>\n",
       "      <th>1</th>\n",
       "      <td>2010-07-01 13:30:00+00:00</td>\n",
       "      <td>NASDAQ:TSLA</td>\n",
       "      <td>1.66666500</td>\n",
       "      <td>1.72799800</td>\n",
       "      <td>1.35133200</td>\n",
       "      <td>1.46399900</td>\n",
       "      <td>123448068</td>\n",
       "    </tr>\n",
       "    <tr>\n",
       "      <th>2</th>\n",
       "      <td>2010-07-02 13:30:00+00:00</td>\n",
       "      <td>NASDAQ:TSLA</td>\n",
       "      <td>1.53333200</td>\n",
       "      <td>1.53999900</td>\n",
       "      <td>1.24733300</td>\n",
       "      <td>1.27999900</td>\n",
       "      <td>77127212</td>\n",
       "    </tr>\n",
       "    <tr>\n",
       "      <th>3</th>\n",
       "      <td>2010-07-06 13:30:00+00:00</td>\n",
       "      <td>NASDAQ:TSLA</td>\n",
       "      <td>1.33333200</td>\n",
       "      <td>1.33333200</td>\n",
       "      <td>1.05533200</td>\n",
       "      <td>1.07399900</td>\n",
       "      <td>103189557</td>\n",
       "    </tr>\n",
       "    <tr>\n",
       "      <th>4</th>\n",
       "      <td>2010-07-07 13:30:00+00:00</td>\n",
       "      <td>NASDAQ:TSLA</td>\n",
       "      <td>1.09333200</td>\n",
       "      <td>1.10866600</td>\n",
       "      <td>0.99866600</td>\n",
       "      <td>1.05333200</td>\n",
       "      <td>103873812</td>\n",
       "    </tr>\n",
       "    <tr>\n",
       "      <th>...</th>\n",
       "      <td>...</td>\n",
       "      <td>...</td>\n",
       "      <td>...</td>\n",
       "      <td>...</td>\n",
       "      <td>...</td>\n",
       "      <td>...</td>\n",
       "      <td>...</td>\n",
       "    </tr>\n",
       "    <tr>\n",
       "      <th>3554</th>\n",
       "      <td>2024-08-14 13:30:00+00:00</td>\n",
       "      <td>NASDAQ:TSLA</td>\n",
       "      <td>207.39000000</td>\n",
       "      <td>208.44000000</td>\n",
       "      <td>198.75000000</td>\n",
       "      <td>201.38000000</td>\n",
       "      <td>70250014</td>\n",
       "    </tr>\n",
       "    <tr>\n",
       "      <th>3555</th>\n",
       "      <td>2024-08-15 13:30:00+00:00</td>\n",
       "      <td>NASDAQ:TSLA</td>\n",
       "      <td>205.02000000</td>\n",
       "      <td>215.88000000</td>\n",
       "      <td>204.82000000</td>\n",
       "      <td>214.14000000</td>\n",
       "      <td>89848530</td>\n",
       "    </tr>\n",
       "    <tr>\n",
       "      <th>3556</th>\n",
       "      <td>2024-08-16 13:30:00+00:00</td>\n",
       "      <td>NASDAQ:TSLA</td>\n",
       "      <td>211.15000000</td>\n",
       "      <td>219.80000000</td>\n",
       "      <td>210.80000000</td>\n",
       "      <td>216.12000000</td>\n",
       "      <td>88765122</td>\n",
       "    </tr>\n",
       "    <tr>\n",
       "      <th>3557</th>\n",
       "      <td>2024-08-19 13:30:00+00:00</td>\n",
       "      <td>NASDAQ:TSLA</td>\n",
       "      <td>217.07000000</td>\n",
       "      <td>222.98000000</td>\n",
       "      <td>214.09000000</td>\n",
       "      <td>222.72000000</td>\n",
       "      <td>76435222</td>\n",
       "    </tr>\n",
       "    <tr>\n",
       "      <th>3558</th>\n",
       "      <td>2024-08-20 13:30:00+00:00</td>\n",
       "      <td>NASDAQ:TSLA</td>\n",
       "      <td>224.88000000</td>\n",
       "      <td>228.22000000</td>\n",
       "      <td>219.56000000</td>\n",
       "      <td>221.10000000</td>\n",
       "      <td>74001182</td>\n",
       "    </tr>\n",
       "  </tbody>\n",
       "</table>\n",
       "<p>3559 rows × 7 columns</p>\n",
       "</div>"
      ],
      "text/plain": [
       "                          Date       Symbol         Open         High  \\\n",
       "0    2010-06-30 13:30:00+00:00  NASDAQ:TSLA   1.71933100   2.02794500   \n",
       "1    2010-07-01 13:30:00+00:00  NASDAQ:TSLA   1.66666500   1.72799800   \n",
       "2    2010-07-02 13:30:00+00:00  NASDAQ:TSLA   1.53333200   1.53999900   \n",
       "3    2010-07-06 13:30:00+00:00  NASDAQ:TSLA   1.33333200   1.33333200   \n",
       "4    2010-07-07 13:30:00+00:00  NASDAQ:TSLA   1.09333200   1.10866600   \n",
       "...                        ...          ...          ...          ...   \n",
       "3554 2024-08-14 13:30:00+00:00  NASDAQ:TSLA 207.39000000 208.44000000   \n",
       "3555 2024-08-15 13:30:00+00:00  NASDAQ:TSLA 205.02000000 215.88000000   \n",
       "3556 2024-08-16 13:30:00+00:00  NASDAQ:TSLA 211.15000000 219.80000000   \n",
       "3557 2024-08-19 13:30:00+00:00  NASDAQ:TSLA 217.07000000 222.98000000   \n",
       "3558 2024-08-20 13:30:00+00:00  NASDAQ:TSLA 224.88000000 228.22000000   \n",
       "\n",
       "              Low        Close     Volume  \n",
       "0      1.55333200   1.58866500  257916256  \n",
       "1      1.35133200   1.46399900  123448068  \n",
       "2      1.24733300   1.27999900   77127212  \n",
       "3      1.05533200   1.07399900  103189557  \n",
       "4      0.99866600   1.05333200  103873812  \n",
       "...           ...          ...        ...  \n",
       "3554 198.75000000 201.38000000   70250014  \n",
       "3555 204.82000000 214.14000000   89848530  \n",
       "3556 210.80000000 216.12000000   88765122  \n",
       "3557 214.09000000 222.72000000   76435222  \n",
       "3558 219.56000000 221.10000000   74001182  \n",
       "\n",
       "[3559 rows x 7 columns]"
      ]
     },
     "execution_count": 13,
     "metadata": {},
     "output_type": "execute_result"
    }
   ],
   "source": [
    "ohlcv"
   ]
  },
  {
   "cell_type": "code",
   "execution_count": 14,
   "metadata": {},
   "outputs": [
    {
     "data": {
      "text/html": [
       "<div>\n",
       "<style scoped>\n",
       "    .dataframe tbody tr th:only-of-type {\n",
       "        vertical-align: middle;\n",
       "    }\n",
       "\n",
       "    .dataframe tbody tr th {\n",
       "        vertical-align: top;\n",
       "    }\n",
       "\n",
       "    .dataframe thead th {\n",
       "        text-align: right;\n",
       "    }\n",
       "</style>\n",
       "<table border=\"1\" class=\"dataframe\">\n",
       "  <thead>\n",
       "    <tr style=\"text-align: right;\">\n",
       "      <th></th>\n",
       "      <th>Date</th>\n",
       "      <th>Symbol</th>\n",
       "      <th>Open</th>\n",
       "      <th>High</th>\n",
       "      <th>Low</th>\n",
       "      <th>Close</th>\n",
       "      <th>Volume</th>\n",
       "    </tr>\n",
       "  </thead>\n",
       "  <tbody>\n",
       "    <tr>\n",
       "      <th>0</th>\n",
       "      <td>2010-06-30 13:30:00+00:00</td>\n",
       "      <td>NASDAQ:TSLA</td>\n",
       "      <td>1.71933100</td>\n",
       "      <td>2.02794500</td>\n",
       "      <td>1.55333200</td>\n",
       "      <td>1.58866500</td>\n",
       "      <td>257916256</td>\n",
       "    </tr>\n",
       "    <tr>\n",
       "      <th>1</th>\n",
       "      <td>2010-07-01 13:30:00+00:00</td>\n",
       "      <td>NASDAQ:TSLA</td>\n",
       "      <td>1.66666500</td>\n",
       "      <td>1.72799800</td>\n",
       "      <td>1.35133200</td>\n",
       "      <td>1.46399900</td>\n",
       "      <td>123448068</td>\n",
       "    </tr>\n",
       "    <tr>\n",
       "      <th>2</th>\n",
       "      <td>2010-07-02 13:30:00+00:00</td>\n",
       "      <td>NASDAQ:TSLA</td>\n",
       "      <td>1.53333200</td>\n",
       "      <td>1.53999900</td>\n",
       "      <td>1.24733300</td>\n",
       "      <td>1.27999900</td>\n",
       "      <td>77127212</td>\n",
       "    </tr>\n",
       "    <tr>\n",
       "      <th>3</th>\n",
       "      <td>2010-07-06 13:30:00+00:00</td>\n",
       "      <td>NASDAQ:TSLA</td>\n",
       "      <td>1.33333200</td>\n",
       "      <td>1.33333200</td>\n",
       "      <td>1.05533200</td>\n",
       "      <td>1.07399900</td>\n",
       "      <td>103189557</td>\n",
       "    </tr>\n",
       "    <tr>\n",
       "      <th>4</th>\n",
       "      <td>2010-07-07 13:30:00+00:00</td>\n",
       "      <td>NASDAQ:TSLA</td>\n",
       "      <td>1.09333200</td>\n",
       "      <td>1.10866600</td>\n",
       "      <td>0.99866600</td>\n",
       "      <td>1.05333200</td>\n",
       "      <td>103873812</td>\n",
       "    </tr>\n",
       "    <tr>\n",
       "      <th>...</th>\n",
       "      <td>...</td>\n",
       "      <td>...</td>\n",
       "      <td>...</td>\n",
       "      <td>...</td>\n",
       "      <td>...</td>\n",
       "      <td>...</td>\n",
       "      <td>...</td>\n",
       "    </tr>\n",
       "    <tr>\n",
       "      <th>3554</th>\n",
       "      <td>2024-08-14 13:30:00+00:00</td>\n",
       "      <td>NASDAQ:TSLA</td>\n",
       "      <td>207.39000000</td>\n",
       "      <td>208.44000000</td>\n",
       "      <td>198.75000000</td>\n",
       "      <td>201.38000000</td>\n",
       "      <td>70250014</td>\n",
       "    </tr>\n",
       "    <tr>\n",
       "      <th>3555</th>\n",
       "      <td>2024-08-15 13:30:00+00:00</td>\n",
       "      <td>NASDAQ:TSLA</td>\n",
       "      <td>205.02000000</td>\n",
       "      <td>215.88000000</td>\n",
       "      <td>204.82000000</td>\n",
       "      <td>214.14000000</td>\n",
       "      <td>89848530</td>\n",
       "    </tr>\n",
       "    <tr>\n",
       "      <th>3556</th>\n",
       "      <td>2024-08-16 13:30:00+00:00</td>\n",
       "      <td>NASDAQ:TSLA</td>\n",
       "      <td>211.15000000</td>\n",
       "      <td>219.80000000</td>\n",
       "      <td>210.80000000</td>\n",
       "      <td>216.12000000</td>\n",
       "      <td>88765122</td>\n",
       "    </tr>\n",
       "    <tr>\n",
       "      <th>3557</th>\n",
       "      <td>2024-08-19 13:30:00+00:00</td>\n",
       "      <td>NASDAQ:TSLA</td>\n",
       "      <td>217.07000000</td>\n",
       "      <td>222.98000000</td>\n",
       "      <td>214.09000000</td>\n",
       "      <td>222.72000000</td>\n",
       "      <td>76435222</td>\n",
       "    </tr>\n",
       "    <tr>\n",
       "      <th>3558</th>\n",
       "      <td>2024-08-20 13:30:00+00:00</td>\n",
       "      <td>NASDAQ:TSLA</td>\n",
       "      <td>224.88000000</td>\n",
       "      <td>228.22000000</td>\n",
       "      <td>219.56000000</td>\n",
       "      <td>221.10000000</td>\n",
       "      <td>74001182</td>\n",
       "    </tr>\n",
       "  </tbody>\n",
       "</table>\n",
       "<p>3559 rows × 7 columns</p>\n",
       "</div>"
      ],
      "text/plain": [
       "                          Date       Symbol         Open         High  \\\n",
       "0    2010-06-30 13:30:00+00:00  NASDAQ:TSLA   1.71933100   2.02794500   \n",
       "1    2010-07-01 13:30:00+00:00  NASDAQ:TSLA   1.66666500   1.72799800   \n",
       "2    2010-07-02 13:30:00+00:00  NASDAQ:TSLA   1.53333200   1.53999900   \n",
       "3    2010-07-06 13:30:00+00:00  NASDAQ:TSLA   1.33333200   1.33333200   \n",
       "4    2010-07-07 13:30:00+00:00  NASDAQ:TSLA   1.09333200   1.10866600   \n",
       "...                        ...          ...          ...          ...   \n",
       "3554 2024-08-14 13:30:00+00:00  NASDAQ:TSLA 207.39000000 208.44000000   \n",
       "3555 2024-08-15 13:30:00+00:00  NASDAQ:TSLA 205.02000000 215.88000000   \n",
       "3556 2024-08-16 13:30:00+00:00  NASDAQ:TSLA 211.15000000 219.80000000   \n",
       "3557 2024-08-19 13:30:00+00:00  NASDAQ:TSLA 217.07000000 222.98000000   \n",
       "3558 2024-08-20 13:30:00+00:00  NASDAQ:TSLA 224.88000000 228.22000000   \n",
       "\n",
       "              Low        Close     Volume  \n",
       "0      1.55333200   1.58866500  257916256  \n",
       "1      1.35133200   1.46399900  123448068  \n",
       "2      1.24733300   1.27999900   77127212  \n",
       "3      1.05533200   1.07399900  103189557  \n",
       "4      0.99866600   1.05333200  103873812  \n",
       "...           ...          ...        ...  \n",
       "3554 198.75000000 201.38000000   70250014  \n",
       "3555 204.82000000 214.14000000   89848530  \n",
       "3556 210.80000000 216.12000000   88765122  \n",
       "3557 214.09000000 222.72000000   76435222  \n",
       "3558 219.56000000 221.10000000   74001182  \n",
       "\n",
       "[3559 rows x 7 columns]"
      ]
     },
     "execution_count": 14,
     "metadata": {},
     "output_type": "execute_result"
    }
   ],
   "source": [
    "ohlcv"
   ]
  },
  {
   "cell_type": "code",
   "execution_count": 15,
   "metadata": {},
   "outputs": [
    {
     "data": {
      "text/plain": [
       "{'NASDAQ:TSLA': {'close': 221.1,\n",
       "  'change_24h': -1.6200000000000045,\n",
       "  'change_24h_pct': -0.007273706896551745,\n",
       "  'low_24h': 219.56,\n",
       "  'high_24h': 228.22}}"
      ]
     },
     "execution_count": 15,
     "metadata": {},
     "output_type": "execute_result"
    }
   ],
   "source": [
    "provider.calc_perf(ohlcv, '24h')"
   ]
  },
  {
   "cell_type": "code",
   "execution_count": 7,
   "metadata": {},
   "outputs": [
    {
     "data": {
      "text/plain": [
       "{'NASDAQ:TSLA': {'close': 221.08,\n",
       "  'change_5d': -0.7800000000000011,\n",
       "  'change_5d_pct': -0.0035157306409447447,\n",
       "  'low_5d': 221.0,\n",
       "  'high_5d': 221.93}}"
      ]
     },
     "execution_count": 7,
     "metadata": {},
     "output_type": "execute_result"
    }
   ],
   "source": [
    "provider.calc_perf(ohlcv, '5D')"
   ]
  },
  {
   "cell_type": "code",
   "execution_count": 9,
   "metadata": {},
   "outputs": [
    {
     "data": {
      "text/plain": [
       "{'NASDAQ:TSLA': {'close': 221.08,\n",
       "  'change_1m': -0.39999999999997726,\n",
       "  'change_1m_pct': -0.0018060321473721208,\n",
       "  'low_1m': 221.0,\n",
       "  'high_1m': 222.47}}"
      ]
     },
     "execution_count": 9,
     "metadata": {},
     "output_type": "execute_result"
    }
   ],
   "source": [
    "provider.calc_perf(ohlcv, '1M')"
   ]
  },
  {
   "cell_type": "code",
   "execution_count": 8,
   "metadata": {},
   "outputs": [
    {
     "data": {
      "text/plain": [
       "{'SP:S5COND': {'close': 1463.72,\n",
       "  'change_mtd': 40.22000000000003,\n",
       "  'change_mtd_pct': 0.028254302774850738,\n",
       "  'low_mtd': 1411.67,\n",
       "  'high_mtd': 1473.95}}"
      ]
     },
     "execution_count": 8,
     "metadata": {},
     "output_type": "execute_result"
    }
   ],
   "source": [
    "provider.calc_perf(ohlcv, 'MTD')"
   ]
  },
  {
   "cell_type": "code",
   "execution_count": 9,
   "metadata": {},
   "outputs": [
    {
     "data": {
      "text/plain": [
       "{'SP:S5COND': {'close': 1463.72,\n",
       "  'change_ytd': 45.6400000000001,\n",
       "  'change_ytd_pct': 0.03218436195419166,\n",
       "  'low_ytd': 1360.78,\n",
       "  'high_ytd': 1493.28}}"
      ]
     },
     "execution_count": 9,
     "metadata": {},
     "output_type": "execute_result"
    }
   ],
   "source": [
    "provider.calc_perf(ohlcv, 'YTD')"
   ]
  }
 ],
 "metadata": {
  "kernelspec": {
   "display_name": "ml4t",
   "language": "python",
   "name": "python3"
  },
  "language_info": {
   "codemirror_mode": {
    "name": "ipython",
    "version": 3
   },
   "file_extension": ".py",
   "mimetype": "text/x-python",
   "name": "python",
   "nbconvert_exporter": "python",
   "pygments_lexer": "ipython3",
   "version": "3.10.12"
  }
 },
 "nbformat": 4,
 "nbformat_minor": 2
}
