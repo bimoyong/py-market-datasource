{
 "cells": [
  {
   "cell_type": "code",
   "execution_count": 1,
   "metadata": {},
   "outputs": [],
   "source": [
    "import io\n",
    "import logging\n",
    "import subprocess\n",
    "import sys\n",
    "import warnings\n",
    "from contextlib import suppress\n",
    "from datetime import timedelta\n",
    "from functools import reduce\n",
    "from logging import StreamHandler\n",
    "from os import chdir, getcwd, makedirs\n",
    "from os.path import dirname, exists, join\n",
    "from subprocess import CalledProcessError, check_output\n",
    "from typing import List\n",
    "\n",
    "import humanize\n",
    "import numpy as np\n",
    "import pandas as pd\n",
    "import pandas_ta as ta\n",
    "from google import auth\n",
    "from google.cloud import bigquery\n",
    "from moonshot.strategies.base import Moonshot\n",
    "from numpy import nan\n",
    "from pandas.testing import assert_frame_equal, assert_series_equal\n",
    "\n",
    "if exists('/codeload'):\n",
    "    WORK_DIR = '/codeload'\n",
    "else:\n",
    "    base_dir = check_output(['git', 'rev-parse', '--show-toplevel']).strip().decode()\n",
    "    WORK_DIR = join(base_dir, 'src')\n",
    "    sys.path.extend([base_dir,\n",
    "                    join(base_dir, 'src'),\n",
    "                    join(base_dir, 'notebook'),\n",
    "                    join(base_dir, 'notebook/*')])\n",
    "\n",
    "chdir(WORK_DIR)\n",
    "\n",
    "warnings.filterwarnings('ignore')\n",
    "pd.options.display.float_format = '{:,.8f}'.format\n",
    "\n",
    "logger = logging.getLogger(__name__)\n",
    "logger.setLevel(logging.INFO)\n",
    "logger.addHandler(StreamHandler())"
   ]
  },
  {
   "cell_type": "code",
   "execution_count": 2,
   "metadata": {},
   "outputs": [
    {
     "name": "stdout",
     "output_type": "stream",
     "text": [
      "env: GOOGLE_APPLICATION_CREDENTIALS=/Users/trung/Projects/tkteam/py-datasource/credentials/service_account.json\n",
      "env: GCLOUD_PROJECT=trading-r-and-d\n",
      "env: REGION=asia-southeast1\n"
     ]
    }
   ],
   "source": [
    "%set_env GOOGLE_APPLICATION_CREDENTIALS $base_dir/credentials/service_account.json\n",
    "\n",
    "CREDENTIALS, PROJECT_ID = auth.default()\n",
    "REGION = 'asia-southeast1'\n",
    "\n",
    "%set_env GCLOUD_PROJECT $PROJECT_ID\n",
    "%set_env REGION $REGION"
   ]
  },
  {
   "cell_type": "code",
   "execution_count": 3,
   "metadata": {},
   "outputs": [],
   "source": [
    "from data_providers.data_provider import DataProvider\n",
    "from data_providers.tradingview_provider import TradingViewProvider"
   ]
  },
  {
   "cell_type": "code",
   "execution_count": 4,
   "metadata": {},
   "outputs": [],
   "source": [
    "provider: DataProvider = TradingViewProvider()\n",
    "provider.TOKEN = ''\n",
    "provider.WORKERS_NO = 4"
   ]
  },
  {
   "cell_type": "code",
   "execution_count": 4,
   "metadata": {},
   "outputs": [],
   "source": [
    "# symbols = [\n",
    "#     'SP:S5COND',\n",
    "# ]\n",
    "\n",
    "# fields = [\n",
    "#     'description'\n",
    "#     'price',\n",
    "#     'change_5d',\n",
    "#     'change_5d_pct',\n",
    "#     'low_5d',\n",
    "#     'high_5d',\n",
    "# ]\n",
    "\n",
    "# results = provider.quotes(symbols=symbols, fields=fields)"
   ]
  },
  {
   "cell_type": "code",
   "execution_count": 25,
   "metadata": {},
   "outputs": [],
   "source": [
    "symbols = [\n",
    "    'BTCUSD',\n",
    "]\n",
    "\n",
    "ohlcv = provider.ohclv(symbols=symbols,\n",
    "                       freq='1D',\n",
    "                       total_candles=252 + 3,\n",
    "                       tzinfo='America/Chicago').reset_index()"
   ]
  },
  {
   "cell_type": "code",
   "execution_count": 23,
   "metadata": {},
   "outputs": [
    {
     "data": {
      "text/html": [
       "<div>\n",
       "<style scoped>\n",
       "    .dataframe tbody tr th:only-of-type {\n",
       "        vertical-align: middle;\n",
       "    }\n",
       "\n",
       "    .dataframe tbody tr th {\n",
       "        vertical-align: top;\n",
       "    }\n",
       "\n",
       "    .dataframe thead th {\n",
       "        text-align: right;\n",
       "    }\n",
       "</style>\n",
       "<table border=\"1\" class=\"dataframe\">\n",
       "  <thead>\n",
       "    <tr style=\"text-align: right;\">\n",
       "      <th></th>\n",
       "      <th>Date</th>\n",
       "      <th>Symbol</th>\n",
       "      <th>Open</th>\n",
       "      <th>High</th>\n",
       "      <th>Low</th>\n",
       "      <th>Close</th>\n",
       "      <th>Volume</th>\n",
       "    </tr>\n",
       "  </thead>\n",
       "  <tbody>\n",
       "    <tr>\n",
       "      <th>0</th>\n",
       "      <td>2024-01-01 18:00:00-06:00</td>\n",
       "      <td>BTCUSD</td>\n",
       "      <td>44,187.00000000</td>\n",
       "      <td>45,922.00000000</td>\n",
       "      <td>44,167.00000000</td>\n",
       "      <td>44,970.00000000</td>\n",
       "      <td>3,931.57911761</td>\n",
       "    </tr>\n",
       "    <tr>\n",
       "      <th>1</th>\n",
       "      <td>2024-01-02 18:00:00-06:00</td>\n",
       "      <td>BTCUSD</td>\n",
       "      <td>44,972.00000000</td>\n",
       "      <td>45,510.00000000</td>\n",
       "      <td>41,454.00000000</td>\n",
       "      <td>42,865.00000000</td>\n",
       "      <td>3,980.82805610</td>\n",
       "    </tr>\n",
       "    <tr>\n",
       "      <th>2</th>\n",
       "      <td>2024-01-03 18:00:00-06:00</td>\n",
       "      <td>BTCUSD</td>\n",
       "      <td>42,863.00000000</td>\n",
       "      <td>44,795.00000000</td>\n",
       "      <td>42,656.00000000</td>\n",
       "      <td>44,186.00000000</td>\n",
       "      <td>2,918.11934919</td>\n",
       "    </tr>\n",
       "    <tr>\n",
       "      <th>3</th>\n",
       "      <td>2024-01-04 18:00:00-06:00</td>\n",
       "      <td>BTCUSD</td>\n",
       "      <td>44,195.00000000</td>\n",
       "      <td>44,366.00000000</td>\n",
       "      <td>42,500.00000000</td>\n",
       "      <td>44,184.00000000</td>\n",
       "      <td>3,155.46601801</td>\n",
       "    </tr>\n",
       "    <tr>\n",
       "      <th>4</th>\n",
       "      <td>2024-01-05 18:00:00-06:00</td>\n",
       "      <td>BTCUSD</td>\n",
       "      <td>44,189.00000000</td>\n",
       "      <td>44,253.00000000</td>\n",
       "      <td>43,440.00000000</td>\n",
       "      <td>43,999.00000000</td>\n",
       "      <td>980.53783688</td>\n",
       "    </tr>\n",
       "    <tr>\n",
       "      <th>...</th>\n",
       "      <td>...</td>\n",
       "      <td>...</td>\n",
       "      <td>...</td>\n",
       "      <td>...</td>\n",
       "      <td>...</td>\n",
       "      <td>...</td>\n",
       "      <td>...</td>\n",
       "    </tr>\n",
       "    <tr>\n",
       "      <th>249</th>\n",
       "      <td>2024-09-06 19:00:00-05:00</td>\n",
       "      <td>BTCUSD</td>\n",
       "      <td>53,947.00000000</td>\n",
       "      <td>54,839.00000000</td>\n",
       "      <td>53,731.00000000</td>\n",
       "      <td>54,147.00000000</td>\n",
       "      <td>1,046.86393200</td>\n",
       "    </tr>\n",
       "    <tr>\n",
       "      <th>250</th>\n",
       "      <td>2024-09-07 19:00:00-05:00</td>\n",
       "      <td>BTCUSD</td>\n",
       "      <td>54,150.00000000</td>\n",
       "      <td>55,306.00000000</td>\n",
       "      <td>53,636.00000000</td>\n",
       "      <td>54,866.00000000</td>\n",
       "      <td>1,238.32664936</td>\n",
       "    </tr>\n",
       "    <tr>\n",
       "      <th>251</th>\n",
       "      <td>2024-09-08 19:00:00-05:00</td>\n",
       "      <td>BTCUSD</td>\n",
       "      <td>54,876.00000000</td>\n",
       "      <td>58,070.00000000</td>\n",
       "      <td>54,587.00000000</td>\n",
       "      <td>57,059.00000000</td>\n",
       "      <td>2,644.10962784</td>\n",
       "    </tr>\n",
       "    <tr>\n",
       "      <th>252</th>\n",
       "      <td>2024-09-09 19:00:00-05:00</td>\n",
       "      <td>BTCUSD</td>\n",
       "      <td>57,056.00000000</td>\n",
       "      <td>58,042.00000000</td>\n",
       "      <td>56,406.00000000</td>\n",
       "      <td>57,659.00000000</td>\n",
       "      <td>1,878.56149502</td>\n",
       "    </tr>\n",
       "    <tr>\n",
       "      <th>253</th>\n",
       "      <td>2024-09-10 19:00:00-05:00</td>\n",
       "      <td>BTCUSD</td>\n",
       "      <td>57,646.00000000</td>\n",
       "      <td>57,751.00000000</td>\n",
       "      <td>56,686.00000000</td>\n",
       "      <td>56,846.00000000</td>\n",
       "      <td>385.02323451</td>\n",
       "    </tr>\n",
       "  </tbody>\n",
       "</table>\n",
       "<p>254 rows × 7 columns</p>\n",
       "</div>"
      ],
      "text/plain": [
       "                         Date  Symbol            Open            High  \\\n",
       "0   2024-01-01 18:00:00-06:00  BTCUSD 44,187.00000000 45,922.00000000   \n",
       "1   2024-01-02 18:00:00-06:00  BTCUSD 44,972.00000000 45,510.00000000   \n",
       "2   2024-01-03 18:00:00-06:00  BTCUSD 42,863.00000000 44,795.00000000   \n",
       "3   2024-01-04 18:00:00-06:00  BTCUSD 44,195.00000000 44,366.00000000   \n",
       "4   2024-01-05 18:00:00-06:00  BTCUSD 44,189.00000000 44,253.00000000   \n",
       "..                        ...     ...             ...             ...   \n",
       "249 2024-09-06 19:00:00-05:00  BTCUSD 53,947.00000000 54,839.00000000   \n",
       "250 2024-09-07 19:00:00-05:00  BTCUSD 54,150.00000000 55,306.00000000   \n",
       "251 2024-09-08 19:00:00-05:00  BTCUSD 54,876.00000000 58,070.00000000   \n",
       "252 2024-09-09 19:00:00-05:00  BTCUSD 57,056.00000000 58,042.00000000   \n",
       "253 2024-09-10 19:00:00-05:00  BTCUSD 57,646.00000000 57,751.00000000   \n",
       "\n",
       "                Low           Close         Volume  \n",
       "0   44,167.00000000 44,970.00000000 3,931.57911761  \n",
       "1   41,454.00000000 42,865.00000000 3,980.82805610  \n",
       "2   42,656.00000000 44,186.00000000 2,918.11934919  \n",
       "3   42,500.00000000 44,184.00000000 3,155.46601801  \n",
       "4   43,440.00000000 43,999.00000000   980.53783688  \n",
       "..              ...             ...            ...  \n",
       "249 53,731.00000000 54,147.00000000 1,046.86393200  \n",
       "250 53,636.00000000 54,866.00000000 1,238.32664936  \n",
       "251 54,587.00000000 57,059.00000000 2,644.10962784  \n",
       "252 56,406.00000000 57,659.00000000 1,878.56149502  \n",
       "253 56,686.00000000 56,846.00000000   385.02323451  \n",
       "\n",
       "[254 rows x 7 columns]"
      ]
     },
     "execution_count": 23,
     "metadata": {},
     "output_type": "execute_result"
    }
   ],
   "source": [
    "ohlcv"
   ]
  },
  {
   "cell_type": "code",
   "execution_count": 12,
   "metadata": {},
   "outputs": [],
   "source": [
    "ohlcv = ohlcv.reset_index()"
   ]
  },
  {
   "cell_type": "code",
   "execution_count": 15,
   "metadata": {},
   "outputs": [],
   "source": [
    "ohlcv.loc[ohlcv.symbol == 'SP:SPX', 'symbol'] = 'SPX'"
   ]
  },
  {
   "cell_type": "code",
   "execution_count": 16,
   "metadata": {},
   "outputs": [
    {
     "data": {
      "text/html": [
       "<div>\n",
       "<style scoped>\n",
       "    .dataframe tbody tr th:only-of-type {\n",
       "        vertical-align: middle;\n",
       "    }\n",
       "\n",
       "    .dataframe tbody tr th {\n",
       "        vertical-align: top;\n",
       "    }\n",
       "\n",
       "    .dataframe thead th {\n",
       "        text-align: right;\n",
       "    }\n",
       "</style>\n",
       "<table border=\"1\" class=\"dataframe\">\n",
       "  <thead>\n",
       "    <tr style=\"text-align: right;\">\n",
       "      <th></th>\n",
       "      <th>timestamp</th>\n",
       "      <th>symbol</th>\n",
       "      <th>open</th>\n",
       "      <th>high</th>\n",
       "      <th>low</th>\n",
       "      <th>close</th>\n",
       "      <th>volume</th>\n",
       "    </tr>\n",
       "  </thead>\n",
       "  <tbody>\n",
       "    <tr>\n",
       "      <th>0</th>\n",
       "      <td>2023-09-07 13:30:00+00:00</td>\n",
       "      <td>NASDAQ:TSLA</td>\n",
       "      <td>245.07000000</td>\n",
       "      <td>252.81000000</td>\n",
       "      <td>243.26500000</td>\n",
       "      <td>251.49000000</td>\n",
       "      <td>115,312,886.00000000</td>\n",
       "    </tr>\n",
       "    <tr>\n",
       "      <th>1</th>\n",
       "      <td>2023-09-08 13:30:00+00:00</td>\n",
       "      <td>NASDAQ:TSLA</td>\n",
       "      <td>251.22000000</td>\n",
       "      <td>256.52000000</td>\n",
       "      <td>246.67000000</td>\n",
       "      <td>248.50000000</td>\n",
       "      <td>118,559,635.00000000</td>\n",
       "    </tr>\n",
       "    <tr>\n",
       "      <th>2</th>\n",
       "      <td>2023-09-11 13:30:00+00:00</td>\n",
       "      <td>NASDAQ:TSLA</td>\n",
       "      <td>264.27000000</td>\n",
       "      <td>274.85000000</td>\n",
       "      <td>260.61000000</td>\n",
       "      <td>273.58000000</td>\n",
       "      <td>174,667,852.00000000</td>\n",
       "    </tr>\n",
       "    <tr>\n",
       "      <th>3</th>\n",
       "      <td>2023-09-12 13:30:00+00:00</td>\n",
       "      <td>NASDAQ:TSLA</td>\n",
       "      <td>270.76000000</td>\n",
       "      <td>278.39000000</td>\n",
       "      <td>266.60000000</td>\n",
       "      <td>267.48000000</td>\n",
       "      <td>135,999,866.00000000</td>\n",
       "    </tr>\n",
       "    <tr>\n",
       "      <th>4</th>\n",
       "      <td>2023-09-13 13:30:00+00:00</td>\n",
       "      <td>NASDAQ:TSLA</td>\n",
       "      <td>270.07000000</td>\n",
       "      <td>274.98000000</td>\n",
       "      <td>268.10000000</td>\n",
       "      <td>271.30000000</td>\n",
       "      <td>111,673,737.00000000</td>\n",
       "    </tr>\n",
       "    <tr>\n",
       "      <th>...</th>\n",
       "      <td>...</td>\n",
       "      <td>...</td>\n",
       "      <td>...</td>\n",
       "      <td>...</td>\n",
       "      <td>...</td>\n",
       "      <td>...</td>\n",
       "      <td>...</td>\n",
       "    </tr>\n",
       "    <tr>\n",
       "      <th>499</th>\n",
       "      <td>2024-08-30 13:30:00+00:00</td>\n",
       "      <td>SPX</td>\n",
       "      <td>5,612.74000000</td>\n",
       "      <td>5,651.37000000</td>\n",
       "      <td>5,581.79000000</td>\n",
       "      <td>5,648.39000000</td>\n",
       "      <td>2,627,000,000.00000000</td>\n",
       "    </tr>\n",
       "    <tr>\n",
       "      <th>500</th>\n",
       "      <td>2024-09-03 13:30:00+00:00</td>\n",
       "      <td>SPX</td>\n",
       "      <td>5,623.89000000</td>\n",
       "      <td>5,623.89000000</td>\n",
       "      <td>5,504.33000000</td>\n",
       "      <td>5,528.92000000</td>\n",
       "      <td>2,809,000,000.00000000</td>\n",
       "    </tr>\n",
       "    <tr>\n",
       "      <th>501</th>\n",
       "      <td>2024-09-04 13:30:00+00:00</td>\n",
       "      <td>SPX</td>\n",
       "      <td>5,506.68000000</td>\n",
       "      <td>5,552.99000000</td>\n",
       "      <td>5,503.66000000</td>\n",
       "      <td>5,520.08000000</td>\n",
       "      <td>2,428,000,000.00000000</td>\n",
       "    </tr>\n",
       "    <tr>\n",
       "      <th>502</th>\n",
       "      <td>2024-09-05 13:30:00+00:00</td>\n",
       "      <td>SPX</td>\n",
       "      <td>5,520.08000000</td>\n",
       "      <td>5,546.30000000</td>\n",
       "      <td>5,480.54000000</td>\n",
       "      <td>5,503.42000000</td>\n",
       "      <td>2,367,000,000.00000000</td>\n",
       "    </tr>\n",
       "    <tr>\n",
       "      <th>503</th>\n",
       "      <td>2024-09-06 13:30:00+00:00</td>\n",
       "      <td>SPX</td>\n",
       "      <td>5,507.33000000</td>\n",
       "      <td>5,522.47000000</td>\n",
       "      <td>5,402.62000000</td>\n",
       "      <td>5,408.43000000</td>\n",
       "      <td>2,714,000,000.00000000</td>\n",
       "    </tr>\n",
       "  </tbody>\n",
       "</table>\n",
       "<p>504 rows × 7 columns</p>\n",
       "</div>"
      ],
      "text/plain": [
       "                    timestamp       symbol           open           high  \\\n",
       "0   2023-09-07 13:30:00+00:00  NASDAQ:TSLA   245.07000000   252.81000000   \n",
       "1   2023-09-08 13:30:00+00:00  NASDAQ:TSLA   251.22000000   256.52000000   \n",
       "2   2023-09-11 13:30:00+00:00  NASDAQ:TSLA   264.27000000   274.85000000   \n",
       "3   2023-09-12 13:30:00+00:00  NASDAQ:TSLA   270.76000000   278.39000000   \n",
       "4   2023-09-13 13:30:00+00:00  NASDAQ:TSLA   270.07000000   274.98000000   \n",
       "..                        ...          ...            ...            ...   \n",
       "499 2024-08-30 13:30:00+00:00          SPX 5,612.74000000 5,651.37000000   \n",
       "500 2024-09-03 13:30:00+00:00          SPX 5,623.89000000 5,623.89000000   \n",
       "501 2024-09-04 13:30:00+00:00          SPX 5,506.68000000 5,552.99000000   \n",
       "502 2024-09-05 13:30:00+00:00          SPX 5,520.08000000 5,546.30000000   \n",
       "503 2024-09-06 13:30:00+00:00          SPX 5,507.33000000 5,522.47000000   \n",
       "\n",
       "               low          close                 volume  \n",
       "0     243.26500000   251.49000000   115,312,886.00000000  \n",
       "1     246.67000000   248.50000000   118,559,635.00000000  \n",
       "2     260.61000000   273.58000000   174,667,852.00000000  \n",
       "3     266.60000000   267.48000000   135,999,866.00000000  \n",
       "4     268.10000000   271.30000000   111,673,737.00000000  \n",
       "..             ...            ...                    ...  \n",
       "499 5,581.79000000 5,648.39000000 2,627,000,000.00000000  \n",
       "500 5,504.33000000 5,528.92000000 2,809,000,000.00000000  \n",
       "501 5,503.66000000 5,520.08000000 2,428,000,000.00000000  \n",
       "502 5,480.54000000 5,503.42000000 2,367,000,000.00000000  \n",
       "503 5,402.62000000 5,408.43000000 2,714,000,000.00000000  \n",
       "\n",
       "[504 rows x 7 columns]"
      ]
     },
     "execution_count": 16,
     "metadata": {},
     "output_type": "execute_result"
    }
   ],
   "source": [
    "ohlcv"
   ]
  },
  {
   "cell_type": "code",
   "execution_count": 15,
   "metadata": {},
   "outputs": [
    {
     "data": {
      "text/plain": [
       "{'NASDAQ:TSLA': {'close': 221.1,\n",
       "  'change_24h': -1.6200000000000045,\n",
       "  'change_24h_pct': -0.007273706896551745,\n",
       "  'low_24h': 219.56,\n",
       "  'high_24h': 228.22}}"
      ]
     },
     "execution_count": 15,
     "metadata": {},
     "output_type": "execute_result"
    }
   ],
   "source": [
    "provider.calc_perf(ohlcv, '24h')"
   ]
  },
  {
   "cell_type": "code",
   "execution_count": 7,
   "metadata": {},
   "outputs": [
    {
     "data": {
      "text/plain": [
       "{'NASDAQ:TSLA': {'close': 221.08,\n",
       "  'change_5d': -0.7800000000000011,\n",
       "  'change_5d_pct': -0.0035157306409447447,\n",
       "  'low_5d': 221.0,\n",
       "  'high_5d': 221.93}}"
      ]
     },
     "execution_count": 7,
     "metadata": {},
     "output_type": "execute_result"
    }
   ],
   "source": [
    "provider.calc_perf(ohlcv, '5D')"
   ]
  },
  {
   "cell_type": "code",
   "execution_count": 9,
   "metadata": {},
   "outputs": [
    {
     "data": {
      "text/plain": [
       "{'NASDAQ:TSLA': {'close': 221.08,\n",
       "  'change_1m': -0.39999999999997726,\n",
       "  'change_1m_pct': -0.0018060321473721208,\n",
       "  'low_1m': 221.0,\n",
       "  'high_1m': 222.47}}"
      ]
     },
     "execution_count": 9,
     "metadata": {},
     "output_type": "execute_result"
    }
   ],
   "source": [
    "provider.calc_perf(ohlcv, '1M')"
   ]
  },
  {
   "cell_type": "code",
   "execution_count": 8,
   "metadata": {},
   "outputs": [
    {
     "data": {
      "text/plain": [
       "{'SP:S5COND': {'close': 1463.72,\n",
       "  'change_mtd': 40.22000000000003,\n",
       "  'change_mtd_pct': 0.028254302774850738,\n",
       "  'low_mtd': 1411.67,\n",
       "  'high_mtd': 1473.95}}"
      ]
     },
     "execution_count": 8,
     "metadata": {},
     "output_type": "execute_result"
    }
   ],
   "source": [
    "provider.calc_perf(ohlcv, 'MTD')"
   ]
  },
  {
   "cell_type": "code",
   "execution_count": 26,
   "metadata": {},
   "outputs": [
    {
     "name": "stdout",
     "output_type": "stream",
     "text": [
      "Y Date\n",
      "2023   44,187.00000000\n",
      "2024   56,854.00000000\n",
      "Freq: Y-DEC, Name: close, dtype: float64 Date\n",
      "2023               NaN\n",
      "2024   44,187.00000000\n",
      "Freq: Y-DEC, Name: close, dtype: float64 Date\n",
      "2023               NaN\n",
      "2024   44,187.00000000\n",
      "Freq: Y-DEC, Name: close_ytd_prev, dtype: float64\n"
     ]
    },
    {
     "data": {
      "text/plain": [
       "{'BTCUSD': {'close': 56854.0,\n",
       "  'change_ytd': 12667.0,\n",
       "  'change_ytd_pct': 0.2866680245321022,\n",
       "  'low_ytd': 38505.0,\n",
       "  'high_ytd': 73794.0}}"
      ]
     },
     "execution_count": 26,
     "metadata": {},
     "output_type": "execute_result"
    }
   ],
   "source": [
    "provider.calc_perf(ohlcv, 'YTD')"
   ]
  }
 ],
 "metadata": {
  "kernelspec": {
   "display_name": "ml4t",
   "language": "python",
   "name": "python3"
  },
  "language_info": {
   "codemirror_mode": {
    "name": "ipython",
    "version": 3
   },
   "file_extension": ".py",
   "mimetype": "text/x-python",
   "name": "python",
   "nbconvert_exporter": "python",
   "pygments_lexer": "ipython3",
   "version": "3.10.12"
  }
 },
 "nbformat": 4,
 "nbformat_minor": 2
}
