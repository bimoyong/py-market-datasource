{
 "cells": [
  {
   "cell_type": "code",
   "execution_count": 1,
   "metadata": {},
   "outputs": [],
   "source": [
    "import io\n",
    "import logging\n",
    "import subprocess\n",
    "import sys\n",
    "import warnings\n",
    "from contextlib import suppress\n",
    "from datetime import timedelta\n",
    "from functools import reduce\n",
    "from logging import StreamHandler\n",
    "from os import chdir, getcwd, makedirs\n",
    "from os.path import dirname, exists, join\n",
    "from subprocess import CalledProcessError\n",
    "from typing import List\n",
    "\n",
    "import humanize\n",
    "import numpy as np\n",
    "import pandas as pd\n",
    "import pandas_ta as ta\n",
    "from google.cloud import bigquery\n",
    "from moonshot.strategies.base import Moonshot\n",
    "from numpy import nan\n",
    "from pandas.testing import assert_frame_equal, assert_series_equal\n",
    "\n",
    "if exists('/src'):\n",
    "    WORKING_DIR = '/src'\n",
    "else:\n",
    "    with suppress(CalledProcessError):\n",
    "        WORKING_DIR = subprocess.check_output(\n",
    "            ['git', 'rev-parse', '--show-toplevel']).strip().decode()\n",
    "        sys.path.extend([WORKING_DIR,\n",
    "                         join(WORKING_DIR, 'src'),\n",
    "                         join(WORKING_DIR, 'notebook'),\n",
    "                         join(WORKING_DIR, 'notebook/*')])\n",
    "\n",
    "        WORKING_DIR = join(WORKING_DIR, 'src')\n",
    "\n",
    "\n",
    "warnings.filterwarnings('ignore')\n",
    "pd.options.display.float_format = '{:,.8f}'.format\n",
    "\n",
    "logger = logging.getLogger(__name__)\n",
    "logger.setLevel(logging.INFO)\n",
    "logger.addHandler(StreamHandler())"
   ]
  },
  {
   "cell_type": "code",
   "execution_count": 2,
   "metadata": {},
   "outputs": [
    {
     "name": "stdout",
     "output_type": "stream",
     "text": [
      "env: GCLOUD_PROJECT=trading-strategy-develop\n",
      "env: REGION=asia-southeast1\n"
     ]
    }
   ],
   "source": [
    "from src.data_providers.data_provider import DataProvider\n",
    "from src.data_providers.tradingview_provider import TradingViewProvider\n",
    "\n",
    "GCLOUD_PROJECT = 'trading-strategy-develop'\n",
    "REGION = 'asia-southeast1'\n",
    "\n",
    "%set_env GCLOUD_PROJECT = $GCLOUD_PROJECT\n",
    "%set_env REGION = $REGION"
   ]
  },
  {
   "cell_type": "code",
   "execution_count": 3,
   "metadata": {},
   "outputs": [],
   "source": [
    "provider: DataProvider = TradingViewProvider()\n",
    "provider.WORKERS_NO = 4"
   ]
  },
  {
   "cell_type": "code",
   "execution_count": 4,
   "metadata": {},
   "outputs": [],
   "source": [
    "# symbols = [\n",
    "#     'SP:S5COND',\n",
    "# ]\n",
    "\n",
    "# fields = [\n",
    "#     'description'\n",
    "#     'price',\n",
    "#     'change_5d',\n",
    "#     'change_5d_pct',\n",
    "#     'low_5d',\n",
    "#     'high_5d',\n",
    "# ]\n",
    "\n",
    "# results = provider.quotes(symbols=symbols, fields=fields)"
   ]
  },
  {
   "cell_type": "code",
   "execution_count": 5,
   "metadata": {},
   "outputs": [],
   "source": [
    "symbols = [\n",
    "    'SP:S5COND',\n",
    "]\n",
    "\n",
    "ohlcv = provider.ohlcv(symbols=symbols,\n",
    "                       freq='1D',\n",
    "                       total_candles=252*5).reset_index()"
   ]
  },
  {
   "cell_type": "code",
   "execution_count": 6,
   "metadata": {},
   "outputs": [
    {
     "data": {
      "text/plain": [
       "{'SP:S5COND': {'close': 1463.72,\n",
       "  'change_5d': 14.170000000000073,\n",
       "  'change_5d_pct': 0.009775447552688816,\n",
       "  'low_5d': 1439.81,\n",
       "  'high_5d': 1473.95}}"
      ]
     },
     "execution_count": 6,
     "metadata": {},
     "output_type": "execute_result"
    }
   ],
   "source": [
    "provider.calc_perf(ohlcv, '5D')"
   ]
  },
  {
   "cell_type": "code",
   "execution_count": 8,
   "metadata": {},
   "outputs": [
    {
     "data": {
      "text/plain": [
       "{'SP:S5COND': {'close': 1463.72,\n",
       "  'change_1m': 15.860000000000127,\n",
       "  'change_1m_pct': 0.01095409777188411,\n",
       "  'low_1m': 1402.29,\n",
       "  'high_1m': 1473.95}}"
      ]
     },
     "execution_count": 8,
     "metadata": {},
     "output_type": "execute_result"
    }
   ],
   "source": [
    "provider.calc_perf(ohlcv, '1M')"
   ]
  },
  {
   "cell_type": "code",
   "execution_count": 9,
   "metadata": {},
   "outputs": [
    {
     "data": {
      "text/plain": [
       "{'SP:S5COND': {'close': 1463.72,\n",
       "  'change_mtd': 40.22000000000003,\n",
       "  'change_mtd_pct': 0.028254302774850738,\n",
       "  'low_mtd': 1411.67,\n",
       "  'high_mtd': 1473.95}}"
      ]
     },
     "execution_count": 9,
     "metadata": {},
     "output_type": "execute_result"
    }
   ],
   "source": [
    "provider.calc_perf(ohlcv, 'MTD')"
   ]
  },
  {
   "cell_type": "code",
   "execution_count": 10,
   "metadata": {},
   "outputs": [
    {
     "data": {
      "text/plain": [
       "{'SP:S5COND': {'close': 1463.72,\n",
       "  'change_ytd': 45.6400000000001,\n",
       "  'change_ytd_pct': 0.03218436195419166,\n",
       "  'low_ytd': 1360.78,\n",
       "  'high_ytd': 1493.28}}"
      ]
     },
     "execution_count": 10,
     "metadata": {},
     "output_type": "execute_result"
    }
   ],
   "source": [
    "provider.calc_perf(ohlcv, 'YTD')"
   ]
  }
 ],
 "metadata": {
  "kernelspec": {
   "display_name": "ml4t",
   "language": "python",
   "name": "python3"
  },
  "language_info": {
   "codemirror_mode": {
    "name": "ipython",
    "version": 3
   },
   "file_extension": ".py",
   "mimetype": "text/x-python",
   "name": "python",
   "nbconvert_exporter": "python",
   "pygments_lexer": "ipython3",
   "version": "3.10.12"
  }
 },
 "nbformat": 4,
 "nbformat_minor": 2
}
