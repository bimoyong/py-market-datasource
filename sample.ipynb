{
 "cells": [
  {
   "cell_type": "code",
   "execution_count": null,
   "metadata": {},
   "outputs": [],
   "source": [
    "from dependency_injector import providers\n",
    "from data_providers.containers import Container as DataProviderContainer\n",
    "from data_providers.tradingview import TradingView\n",
    "\n",
    "TV_TOKEN = ''\n",
    "\n",
    "data_provider_concrete = providers.Singleton(TradingView)\n",
    "data_provider_concrete.add_attributes(token=TV_TOKEN)\n",
    "\n",
    "data_provider_container = DataProviderContainer()\n",
    "data_provider_container.client.override(data_provider_concrete)\n",
    "\n",
    "data_provider = data_provider_container.client()\n",
    "data_provider.quote('SPX')"
   ]
  }
 ],
 "metadata": {
  "kernelspec": {
   "display_name": "ml4t",
   "language": "python",
   "name": "python3"
  },
  "language_info": {
   "codemirror_mode": {
    "name": "ipython",
    "version": 3
   },
   "file_extension": ".py",
   "mimetype": "text/x-python",
   "name": "python",
   "nbconvert_exporter": "python",
   "pygments_lexer": "ipython3",
   "version": "3.10.12"
  }
 },
 "nbformat": 4,
 "nbformat_minor": 2
}
